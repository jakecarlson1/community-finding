{
 "cells": [
  {
   "cell_type": "markdown",
   "metadata": {},
   "source": [
    "# Community Finding - Algorithm Comparision\n",
    "## Jake Carlson\n",
    "\n",
    "## Load Data"
   ]
  },
  {
   "cell_type": "code",
   "execution_count": 1,
   "metadata": {
    "collapsed": true
   },
   "outputs": [],
   "source": [
    "import numpy as np\n",
    "import pandas as pd\n",
    "import igraph\n",
    "import uuid\n",
    "import matplotlib.pyplot as plt\n",
    "\n",
    "df_q = pd.read_csv(\"./data/2008-questions.csv\")\n",
    "df_a = pd.read_csv(\"./data/2008-answers.csv\")\n",
    "df_t = pd.read_csv(\"./data/2008-tags.csv\")\n",
    "\n",
    "# remove NaN owner ids\n",
    "df_q = df_q[np.isfinite(df_q.OwnerUserId.values)]\n",
    "df_a = df_a[np.isfinite(df_a.OwnerUserId.values) & df_a.ParentId.isin(df_q.Id)]\n",
    "\n",
    "df_q.OwnerUserId = df_q.OwnerUserId.astype(np.int)\n",
    "df_a.OwnerUserId = df_a.OwnerUserId.astype(np.int)\n",
    "\n",
    "df_q['qid'] = [str(uuid.uuid4()) for _ in range(len(df_q))]\n",
    "df_a['qid'] = [df_q['qid'].values[df_q.Id == a][0] for a in df_a.ParentId.values]"
   ]
  },
  {
   "cell_type": "code",
   "execution_count": 2,
   "metadata": {
    "collapsed": true
   },
   "outputs": [],
   "source": [
    "owner_to_uid = {}\n",
    "def get_uids(df):\n",
    "    uids = []\n",
    "    for i, r in df.iterrows():\n",
    "        owner = r['OwnerUserId']\n",
    "        uid = None\n",
    "        if owner in owner_to_uid.keys():\n",
    "            uid = owner_to_uid[owner]\n",
    "        else:\n",
    "            uid = str(uuid.uuid4())\n",
    "            owner_to_uid[owner] = uid\n",
    "        uids.append(uid)\n",
    "    return uids\n",
    "\n",
    "df_q['uid'] = get_uids(df_q)\n",
    "df_a['uid'] = get_uids(df_a)"
   ]
  },
  {
   "cell_type": "code",
   "execution_count": 3,
   "metadata": {},
   "outputs": [
    {
     "data": {
      "text/html": [
       "<div>\n",
       "<style>\n",
       "    .dataframe thead tr:only-child th {\n",
       "        text-align: right;\n",
       "    }\n",
       "\n",
       "    .dataframe thead th {\n",
       "        text-align: left;\n",
       "    }\n",
       "\n",
       "    .dataframe tbody tr th {\n",
       "        vertical-align: top;\n",
       "    }\n",
       "</style>\n",
       "<table border=\"1\" class=\"dataframe\">\n",
       "  <thead>\n",
       "    <tr style=\"text-align: right;\">\n",
       "      <th></th>\n",
       "      <th>Id</th>\n",
       "      <th>OwnerUserId</th>\n",
       "      <th>CreationDate</th>\n",
       "      <th>Score</th>\n",
       "      <th>Title</th>\n",
       "      <th>qid</th>\n",
       "      <th>uid</th>\n",
       "    </tr>\n",
       "  </thead>\n",
       "  <tbody>\n",
       "    <tr>\n",
       "      <th>0</th>\n",
       "      <td>80</td>\n",
       "      <td>26</td>\n",
       "      <td>2008-08-01T13:57:07Z</td>\n",
       "      <td>26</td>\n",
       "      <td>SQLStatement.execute() - multiple queries in o...</td>\n",
       "      <td>3047e7dd-e0df-49c6-89d5-361fe91d180c</td>\n",
       "      <td>e6af2e8d-a900-4733-90b8-27406c5f3048</td>\n",
       "    </tr>\n",
       "    <tr>\n",
       "      <th>1</th>\n",
       "      <td>90</td>\n",
       "      <td>58</td>\n",
       "      <td>2008-08-01T14:41:24Z</td>\n",
       "      <td>144</td>\n",
       "      <td>Good branching and merging tutorials for Torto...</td>\n",
       "      <td>04c7710e-9f2a-46f5-8e44-034f29ee548e</td>\n",
       "      <td>6224eac1-0305-41b1-923c-7e6ecbc48b31</td>\n",
       "    </tr>\n",
       "    <tr>\n",
       "      <th>2</th>\n",
       "      <td>120</td>\n",
       "      <td>83</td>\n",
       "      <td>2008-08-01T15:50:08Z</td>\n",
       "      <td>21</td>\n",
       "      <td>ASP.NET Site Maps</td>\n",
       "      <td>96bd567c-d7f0-4cfb-acf7-f6fd20dd846c</td>\n",
       "      <td>5c647ab6-4424-469c-8e2e-33fec25e6311</td>\n",
       "    </tr>\n",
       "    <tr>\n",
       "      <th>3</th>\n",
       "      <td>180</td>\n",
       "      <td>2089740</td>\n",
       "      <td>2008-08-01T18:42:19Z</td>\n",
       "      <td>53</td>\n",
       "      <td>Function for creating color wheels</td>\n",
       "      <td>0c6cabb1-cc72-4fcb-bda1-d21f9f553340</td>\n",
       "      <td>61a903ee-661e-482d-93b6-4cf5acdeafdf</td>\n",
       "    </tr>\n",
       "    <tr>\n",
       "      <th>4</th>\n",
       "      <td>260</td>\n",
       "      <td>91</td>\n",
       "      <td>2008-08-01T23:22:08Z</td>\n",
       "      <td>49</td>\n",
       "      <td>Adding scripting functionality to .NET applica...</td>\n",
       "      <td>3d6ba28b-ab22-4d7d-85db-e5ae525be249</td>\n",
       "      <td>4341f7a4-26a7-493e-92ea-31346c33fb77</td>\n",
       "    </tr>\n",
       "  </tbody>\n",
       "</table>\n",
       "</div>"
      ],
      "text/plain": [
       "    Id  OwnerUserId          CreationDate  Score  \\\n",
       "0   80           26  2008-08-01T13:57:07Z     26   \n",
       "1   90           58  2008-08-01T14:41:24Z    144   \n",
       "2  120           83  2008-08-01T15:50:08Z     21   \n",
       "3  180      2089740  2008-08-01T18:42:19Z     53   \n",
       "4  260           91  2008-08-01T23:22:08Z     49   \n",
       "\n",
       "                                               Title  \\\n",
       "0  SQLStatement.execute() - multiple queries in o...   \n",
       "1  Good branching and merging tutorials for Torto...   \n",
       "2                                  ASP.NET Site Maps   \n",
       "3                 Function for creating color wheels   \n",
       "4  Adding scripting functionality to .NET applica...   \n",
       "\n",
       "                                    qid                                   uid  \n",
       "0  3047e7dd-e0df-49c6-89d5-361fe91d180c  e6af2e8d-a900-4733-90b8-27406c5f3048  \n",
       "1  04c7710e-9f2a-46f5-8e44-034f29ee548e  6224eac1-0305-41b1-923c-7e6ecbc48b31  \n",
       "2  96bd567c-d7f0-4cfb-acf7-f6fd20dd846c  5c647ab6-4424-469c-8e2e-33fec25e6311  \n",
       "3  0c6cabb1-cc72-4fcb-bda1-d21f9f553340  61a903ee-661e-482d-93b6-4cf5acdeafdf  \n",
       "4  3d6ba28b-ab22-4d7d-85db-e5ae525be249  4341f7a4-26a7-493e-92ea-31346c33fb77  "
      ]
     },
     "execution_count": 3,
     "metadata": {},
     "output_type": "execute_result"
    }
   ],
   "source": [
    "df_q.head()"
   ]
  },
  {
   "cell_type": "code",
   "execution_count": 4,
   "metadata": {},
   "outputs": [
    {
     "data": {
      "text/html": [
       "<div>\n",
       "<style>\n",
       "    .dataframe thead tr:only-child th {\n",
       "        text-align: right;\n",
       "    }\n",
       "\n",
       "    .dataframe thead th {\n",
       "        text-align: left;\n",
       "    }\n",
       "\n",
       "    .dataframe tbody tr th {\n",
       "        vertical-align: top;\n",
       "    }\n",
       "</style>\n",
       "<table border=\"1\" class=\"dataframe\">\n",
       "  <thead>\n",
       "    <tr style=\"text-align: right;\">\n",
       "      <th></th>\n",
       "      <th>Id</th>\n",
       "      <th>OwnerUserId</th>\n",
       "      <th>CreationDate</th>\n",
       "      <th>ParentId</th>\n",
       "      <th>Score</th>\n",
       "      <th>qid</th>\n",
       "      <th>uid</th>\n",
       "    </tr>\n",
       "  </thead>\n",
       "  <tbody>\n",
       "    <tr>\n",
       "      <th>0</th>\n",
       "      <td>92</td>\n",
       "      <td>61</td>\n",
       "      <td>2008-08-01T14:45:37Z</td>\n",
       "      <td>90</td>\n",
       "      <td>13</td>\n",
       "      <td>04c7710e-9f2a-46f5-8e44-034f29ee548e</td>\n",
       "      <td>01d24177-d01f-4d53-9017-2589de4584fb</td>\n",
       "    </tr>\n",
       "    <tr>\n",
       "      <th>1</th>\n",
       "      <td>124</td>\n",
       "      <td>26</td>\n",
       "      <td>2008-08-01T16:09:47Z</td>\n",
       "      <td>80</td>\n",
       "      <td>12</td>\n",
       "      <td>3047e7dd-e0df-49c6-89d5-361fe91d180c</td>\n",
       "      <td>e6af2e8d-a900-4733-90b8-27406c5f3048</td>\n",
       "    </tr>\n",
       "    <tr>\n",
       "      <th>2</th>\n",
       "      <td>199</td>\n",
       "      <td>50</td>\n",
       "      <td>2008-08-01T19:36:46Z</td>\n",
       "      <td>180</td>\n",
       "      <td>1</td>\n",
       "      <td>0c6cabb1-cc72-4fcb-bda1-d21f9f553340</td>\n",
       "      <td>7c8180a0-f62a-4391-aae3-4b72c2807b4a</td>\n",
       "    </tr>\n",
       "    <tr>\n",
       "      <th>3</th>\n",
       "      <td>269</td>\n",
       "      <td>91</td>\n",
       "      <td>2008-08-01T23:49:57Z</td>\n",
       "      <td>260</td>\n",
       "      <td>4</td>\n",
       "      <td>3d6ba28b-ab22-4d7d-85db-e5ae525be249</td>\n",
       "      <td>4341f7a4-26a7-493e-92ea-31346c33fb77</td>\n",
       "    </tr>\n",
       "    <tr>\n",
       "      <th>4</th>\n",
       "      <td>307</td>\n",
       "      <td>49</td>\n",
       "      <td>2008-08-02T01:49:46Z</td>\n",
       "      <td>260</td>\n",
       "      <td>28</td>\n",
       "      <td>3d6ba28b-ab22-4d7d-85db-e5ae525be249</td>\n",
       "      <td>d1bf1833-da23-402c-bb71-f5ddd0eac248</td>\n",
       "    </tr>\n",
       "  </tbody>\n",
       "</table>\n",
       "</div>"
      ],
      "text/plain": [
       "    Id  OwnerUserId          CreationDate  ParentId  Score  \\\n",
       "0   92           61  2008-08-01T14:45:37Z        90     13   \n",
       "1  124           26  2008-08-01T16:09:47Z        80     12   \n",
       "2  199           50  2008-08-01T19:36:46Z       180      1   \n",
       "3  269           91  2008-08-01T23:49:57Z       260      4   \n",
       "4  307           49  2008-08-02T01:49:46Z       260     28   \n",
       "\n",
       "                                    qid                                   uid  \n",
       "0  04c7710e-9f2a-46f5-8e44-034f29ee548e  01d24177-d01f-4d53-9017-2589de4584fb  \n",
       "1  3047e7dd-e0df-49c6-89d5-361fe91d180c  e6af2e8d-a900-4733-90b8-27406c5f3048  \n",
       "2  0c6cabb1-cc72-4fcb-bda1-d21f9f553340  7c8180a0-f62a-4391-aae3-4b72c2807b4a  \n",
       "3  3d6ba28b-ab22-4d7d-85db-e5ae525be249  4341f7a4-26a7-493e-92ea-31346c33fb77  \n",
       "4  3d6ba28b-ab22-4d7d-85db-e5ae525be249  d1bf1833-da23-402c-bb71-f5ddd0eac248  "
      ]
     },
     "execution_count": 4,
     "metadata": {},
     "output_type": "execute_result"
    }
   ],
   "source": [
    "df_a.head()"
   ]
  },
  {
   "cell_type": "code",
   "execution_count": 5,
   "metadata": {},
   "outputs": [
    {
     "data": {
      "text/html": [
       "<div>\n",
       "<style>\n",
       "    .dataframe thead tr:only-child th {\n",
       "        text-align: right;\n",
       "    }\n",
       "\n",
       "    .dataframe thead th {\n",
       "        text-align: left;\n",
       "    }\n",
       "\n",
       "    .dataframe tbody tr th {\n",
       "        vertical-align: top;\n",
       "    }\n",
       "</style>\n",
       "<table border=\"1\" class=\"dataframe\">\n",
       "  <thead>\n",
       "    <tr style=\"text-align: right;\">\n",
       "      <th></th>\n",
       "      <th>Id</th>\n",
       "      <th>Tag</th>\n",
       "    </tr>\n",
       "  </thead>\n",
       "  <tbody>\n",
       "    <tr>\n",
       "      <th>0</th>\n",
       "      <td>80</td>\n",
       "      <td>flex</td>\n",
       "    </tr>\n",
       "    <tr>\n",
       "      <th>1</th>\n",
       "      <td>80</td>\n",
       "      <td>actionscript-3</td>\n",
       "    </tr>\n",
       "    <tr>\n",
       "      <th>2</th>\n",
       "      <td>80</td>\n",
       "      <td>air</td>\n",
       "    </tr>\n",
       "    <tr>\n",
       "      <th>3</th>\n",
       "      <td>90</td>\n",
       "      <td>svn</td>\n",
       "    </tr>\n",
       "    <tr>\n",
       "      <th>4</th>\n",
       "      <td>90</td>\n",
       "      <td>tortoisesvn</td>\n",
       "    </tr>\n",
       "  </tbody>\n",
       "</table>\n",
       "</div>"
      ],
      "text/plain": [
       "   Id             Tag\n",
       "0  80            flex\n",
       "1  80  actionscript-3\n",
       "2  80             air\n",
       "3  90             svn\n",
       "4  90     tortoisesvn"
      ]
     },
     "execution_count": 5,
     "metadata": {},
     "output_type": "execute_result"
    }
   ],
   "source": [
    "df_t.head()"
   ]
  },
  {
   "cell_type": "code",
   "execution_count": 6,
   "metadata": {},
   "outputs": [
    {
     "name": "stdout",
     "output_type": "stream",
     "text": [
      "<class 'pandas.core.frame.DataFrame'>\n",
      "RangeIndex: 16912 entries, 0 to 16911\n",
      "Data columns (total 2 columns):\n",
      "Id     16912 non-null int64\n",
      "Tag    16912 non-null object\n",
      "dtypes: int64(1), object(1)\n",
      "memory usage: 264.3+ KB\n"
     ]
    }
   ],
   "source": [
    "df_t.info()"
   ]
  },
  {
   "cell_type": "code",
   "execution_count": 7,
   "metadata": {},
   "outputs": [
    {
     "name": "stdout",
     "output_type": "stream",
     "text": [
      "<class 'pandas.core.frame.DataFrame'>\n",
      "Int64Index: 5299 entries, 0 to 5824\n",
      "Data columns (total 7 columns):\n",
      "Id              5299 non-null int64\n",
      "OwnerUserId     5299 non-null int64\n",
      "CreationDate    5299 non-null object\n",
      "Score           5299 non-null int64\n",
      "Title           5299 non-null object\n",
      "qid             5299 non-null object\n",
      "uid             5299 non-null object\n",
      "dtypes: int64(3), object(4)\n",
      "memory usage: 331.2+ KB\n"
     ]
    }
   ],
   "source": [
    "df_q.info()"
   ]
  },
  {
   "cell_type": "markdown",
   "metadata": {},
   "source": [
    "## Questions Only"
   ]
  },
  {
   "cell_type": "code",
   "execution_count": 8,
   "metadata": {
    "collapsed": true
   },
   "outputs": [],
   "source": [
    "tags_to_questions = {}\n",
    "for g, data in df_t.groupby(['Tag']):\n",
    "    tags_to_questions[g] = set(df_q.qid[df_q.Id.isin(data.Id)].values)\n",
    "\n",
    "questions_to_questions = {}\n",
    "for t, quids in tags_to_questions.items():\n",
    "    for i, q in enumerate(quids):\n",
    "        if q in questions_to_questions.keys():\n",
    "            questions_to_questions[q].update(quids)\n",
    "        else:\n",
    "            questions_to_questions[q] = set(quids)\n",
    "        questions_to_questions[q].remove(q)\n",
    "\n",
    "questions = list(questions_to_questions.keys())\n",
    "questions_to_idx = {}\n",
    "for i, q in enumerate(questions):\n",
    "    questions_to_idx[q] = i"
   ]
  },
  {
   "cell_type": "code",
   "execution_count": 9,
   "metadata": {
    "collapsed": true
   },
   "outputs": [],
   "source": [
    "edges = []\n",
    "for k, v in questions_to_questions.items():\n",
    "    for q in v:\n",
    "        edges.append((questions_to_idx[k], questions_to_idx[q]))"
   ]
  },
  {
   "cell_type": "code",
   "execution_count": 10,
   "metadata": {
    "collapsed": true
   },
   "outputs": [],
   "source": [
    "graph = igraph.Graph(edges=edges, directed=False).simplify(multiple=True, loops=False)\n",
    "graph.vs['name'] = questions"
   ]
  },
  {
   "cell_type": "code",
   "execution_count": 11,
   "metadata": {
    "collapsed": true
   },
   "outputs": [],
   "source": [
    "def get_largest_component(g):\n",
    "    comps = g.components()\n",
    "    sizes = comps.sizes()\n",
    "    idx_largest = sizes.index(max(sizes))\n",
    "    return comps.subgraph(idx_largest)"
   ]
  },
  {
   "cell_type": "code",
   "execution_count": 12,
   "metadata": {
    "collapsed": true
   },
   "outputs": [],
   "source": [
    "largest = get_largest_component(graph)"
   ]
  },
  {
   "cell_type": "markdown",
   "metadata": {},
   "source": [
    "## Spectral Bisection"
   ]
  },
  {
   "cell_type": "code",
   "execution_count": 13,
   "metadata": {},
   "outputs": [],
   "source": [
    "def get_smallest_component(g):\n",
    "    comps = g.components()\n",
    "    sizes = comps.sizes()\n",
    "    idx_largest = sizes.index(2)\n",
    "    return comps.subgraph(idx_largest)\n",
    "\n",
    "smallest = get_smallest_component(graph)"
   ]
  },
  {
   "cell_type": "code",
   "execution_count": 52,
   "metadata": {},
   "outputs": [
    {
     "name": "stdout",
     "output_type": "stream",
     "text": [
      "set()\n",
      "set()\n"
     ]
    }
   ],
   "source": [
    "import importlib\n",
    "import methods\n",
    "\n",
    "importlib.reload(methods)\n",
    "\n",
    "methods.spectral_bisection(largest)\n",
    "# methods.spectral_bisection(smallest)"
   ]
  },
  {
   "cell_type": "markdown",
   "metadata": {},
   "source": [
    "## Walktrap"
   ]
  },
  {
   "cell_type": "code",
   "execution_count": null,
   "metadata": {},
   "outputs": [],
   "source": [
    "dendrogram = largest.community_walktrap()\n",
    "dendrogram.optimal_count"
   ]
  },
  {
   "cell_type": "code",
   "execution_count": null,
   "metadata": {},
   "outputs": [],
   "source": [
    "tag_counts = df_t.Tag.value_counts()\n",
    "tag_counts[:100].plot()\n",
    "plt.show()"
   ]
  },
  {
   "cell_type": "code",
   "execution_count": null,
   "metadata": {
    "collapsed": true
   },
   "outputs": [],
   "source": [
    "clusters = dendrogram.as_clustering()\n",
    "membership = clusters.membership\n",
    "largest.vs['membership'] = membership"
   ]
  },
  {
   "cell_type": "code",
   "execution_count": null,
   "metadata": {
    "collapsed": true
   },
   "outputs": [],
   "source": [
    "def get_n_tag_counts_for_membership(m, n):\n",
    "    q_ids = set([graph.vs[i]['name'] for i in range(len(largest.vs)) if membership[i] == m])\n",
    "    q_tags = df_t.Tag[df_t.Id.isin(df_q.Id[df_q.qid.isin(q_ids)])]\n",
    "    return len(q_ids), q_tags.value_counts()[:n]"
   ]
  },
  {
   "cell_type": "code",
   "execution_count": null,
   "metadata": {},
   "outputs": [],
   "source": [
    "for m in list(set(membership)):\n",
    "    num, counts = get_n_tag_counts_for_membership(m, 5)\n",
    "    print(m, \":\", num)\n",
    "    print(counts)"
   ]
  },
  {
   "cell_type": "code",
   "execution_count": null,
   "metadata": {
    "collapsed": true
   },
   "outputs": [],
   "source": [
    "def show_n_questions_for_membership(m, n):\n",
    "    q_ids = set([graph.vs[i]['name'] for i in range(len(largest.vs)) if membership[i] == m])\n",
    "    q_titles = df_q.Title.values[df_q.qid.isin(q_ids)]\n",
    "    return q_titles[:n]"
   ]
  },
  {
   "cell_type": "code",
   "execution_count": null,
   "metadata": {},
   "outputs": [],
   "source": [
    "show_n_questions_for_membership(2, 10)"
   ]
  },
  {
   "cell_type": "code",
   "execution_count": null,
   "metadata": {
    "collapsed": true
   },
   "outputs": [],
   "source": [
    "def plot_memberships(ms):\n",
    "    palette = igraph.drawing.colors.ClusterColoringPalette(len(clusters))\n",
    "    colors = palette.get_many(membership)\n",
    "    largest.vs['color'] = colors\n",
    "    layout = largest.layout_drl()\n",
    "    p = igraph.drawing.Plot(background='white')\n",
    "    for m in ms:\n",
    "        p.add(clusters.subgraph(m), opacity=0.6, layout=layout)\n",
    "    return p"
   ]
  },
  {
   "cell_type": "code",
   "execution_count": null,
   "metadata": {
    "collapsed": true
   },
   "outputs": [],
   "source": [
    "plot = plot_memberships([0,1])\n",
    "plot.show()"
   ]
  },
  {
   "cell_type": "code",
   "execution_count": null,
   "metadata": {
    "collapsed": true,
    "scrolled": true
   },
   "outputs": [],
   "source": [
    "palette = igraph.drawing.colors.ClusterColoringPalette(len(clusters))\n",
    "colors = palette.get_many(membership)\n",
    "\n",
    "# set user colors (r, b, g, a)\n",
    "# for i in range(len(users)):\n",
    "#     colors[i] = (1.0, 1.0, 1.0, 1.0)\n",
    "# for i in range(len(questions)):\n",
    "#     colors[offset+i] = (1.0, 0.0, 0.0, 1.0)\n",
    "largest.vs['color'] = colors\n",
    "igraph.plot(largest, opacity=0.5)"
   ]
  },
  {
   "cell_type": "markdown",
   "metadata": {
    "collapsed": true
   },
   "source": [
    "## Spinglass"
   ]
  },
  {
   "cell_type": "code",
   "execution_count": null,
   "metadata": {
    "collapsed": true
   },
   "outputs": [],
   "source": [
    "clustering = largest.community_spinglass()\n",
    "membership = clustering.membership"
   ]
  },
  {
   "cell_type": "code",
   "execution_count": null,
   "metadata": {},
   "outputs": [],
   "source": [
    "for m in list(set(membership)):\n",
    "    num, counts = get_n_tag_counts_for_membership(m, 5)\n",
    "    print(m, \":\", num)\n",
    "    print(counts)"
   ]
  },
  {
   "cell_type": "code",
   "execution_count": null,
   "metadata": {
    "collapsed": true
   },
   "outputs": [],
   "source": [
    "palette = igraph.drawing.colors.ClusterColoringPalette(len(set(membership)))\n",
    "colors = palette.get_many(membership)\n",
    "\n",
    "# set user colors (r, b, g, a)\n",
    "# for i in range(len(users)):\n",
    "#     colors[i] = (1.0, 1.0, 1.0, 1.0)\n",
    "# for i in range(len(questions)):\n",
    "#     colors[offset+i] = (1.0, 0.0, 0.0, 1.0)\n",
    "largest.vs['color'] = colors\n",
    "igraph.plot(largest, opacity=0.5)"
   ]
  },
  {
   "cell_type": "code",
   "execution_count": null,
   "metadata": {
    "collapsed": true
   },
   "outputs": [],
   "source": []
  }
 ],
 "metadata": {
  "kernelspec": {
   "display_name": "Python [conda root]",
   "language": "python",
   "name": "conda-root-py"
  },
  "language_info": {
   "codemirror_mode": {
    "name": "ipython",
    "version": 3
   },
   "file_extension": ".py",
   "mimetype": "text/x-python",
   "name": "python",
   "nbconvert_exporter": "python",
   "pygments_lexer": "ipython3",
   "version": "3.6.1"
  }
 },
 "nbformat": 4,
 "nbformat_minor": 2
}
