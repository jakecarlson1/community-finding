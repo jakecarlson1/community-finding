{
 "cells": [
  {
   "cell_type": "markdown",
   "metadata": {},
   "source": [
    "# Community Finding - Algorithm Comparision\n",
    "## Jake Carlson\n",
    "\n",
    "## Load Data"
   ]
  },
  {
   "cell_type": "code",
   "execution_count": 87,
   "metadata": {
    "collapsed": true
   },
   "outputs": [],
   "source": [
    "import numpy as np\n",
    "import pandas as pd\n",
    "import igraph\n",
    "import uuid\n",
    "import matplotlib.pyplot as plt"
   ]
  },
  {
   "cell_type": "code",
   "execution_count": 70,
   "metadata": {
    "collapsed": true
   },
   "outputs": [],
   "source": [
    "df_q = pd.read_csv(\"./data/2008-questions.csv\")\n",
    "df_a = pd.read_csv(\"./data/2008-answers.csv\")\n",
    "df_t = pd.read_csv(\"./data/2008-tags.csv\")\n",
    "\n",
    "# remove NaN owner ids\n",
    "df_q = df_q[np.isfinite(df_q.OwnerUserId.values)]\n",
    "df_a = df_a[np.isfinite(df_a.OwnerUserId.values) & df_a.ParentId.isin(df_q.Id)]\n",
    "\n",
    "df_q.OwnerUserId = df_q.OwnerUserId.astype(np.int)\n",
    "df_a.OwnerUserId = df_a.OwnerUserId.astype(np.int)\n",
    "\n",
    "df_q['qid'] = [str(uuid.uuid4()) for _ in range(len(df_q))]\n",
    "df_a['qid'] = [df_q['qid'].values[df_q.Id == a][0] for a in df_a.ParentId.values]"
   ]
  },
  {
   "cell_type": "code",
   "execution_count": 71,
   "metadata": {
    "collapsed": true
   },
   "outputs": [],
   "source": [
    "owner_to_uid = {}\n",
    "def get_uids(df):\n",
    "    uids = []\n",
    "    for i, r in df.iterrows():\n",
    "        owner = r['OwnerUserId']\n",
    "        uid = None\n",
    "        if owner in owner_to_uid.keys():\n",
    "            uid = owner_to_uid[owner]\n",
    "        else:\n",
    "            uid = str(uuid.uuid4())\n",
    "            owner_to_uid[owner] = uid\n",
    "        uids.append(uid)\n",
    "    return uids\n",
    "\n",
    "df_q['uid'] = get_uids(df_q)\n",
    "df_a['uid'] = get_uids(df_a)"
   ]
  },
  {
   "cell_type": "code",
   "execution_count": 72,
   "metadata": {},
   "outputs": [
    {
     "data": {
      "text/html": [
       "<div>\n",
       "<style>\n",
       "    .dataframe thead tr:only-child th {\n",
       "        text-align: right;\n",
       "    }\n",
       "\n",
       "    .dataframe thead th {\n",
       "        text-align: left;\n",
       "    }\n",
       "\n",
       "    .dataframe tbody tr th {\n",
       "        vertical-align: top;\n",
       "    }\n",
       "</style>\n",
       "<table border=\"1\" class=\"dataframe\">\n",
       "  <thead>\n",
       "    <tr style=\"text-align: right;\">\n",
       "      <th></th>\n",
       "      <th>Id</th>\n",
       "      <th>OwnerUserId</th>\n",
       "      <th>CreationDate</th>\n",
       "      <th>Score</th>\n",
       "      <th>Title</th>\n",
       "      <th>qid</th>\n",
       "      <th>uid</th>\n",
       "    </tr>\n",
       "  </thead>\n",
       "  <tbody>\n",
       "    <tr>\n",
       "      <th>0</th>\n",
       "      <td>80</td>\n",
       "      <td>26</td>\n",
       "      <td>2008-08-01T13:57:07Z</td>\n",
       "      <td>26</td>\n",
       "      <td>SQLStatement.execute() - multiple queries in o...</td>\n",
       "      <td>5ef5de3d-5329-483c-ae6d-a25f8761d9ba</td>\n",
       "      <td>b424ee67-f316-4771-8fc6-ef78e2c2fe44</td>\n",
       "    </tr>\n",
       "    <tr>\n",
       "      <th>1</th>\n",
       "      <td>90</td>\n",
       "      <td>58</td>\n",
       "      <td>2008-08-01T14:41:24Z</td>\n",
       "      <td>144</td>\n",
       "      <td>Good branching and merging tutorials for Torto...</td>\n",
       "      <td>f990b00f-94c2-4928-9347-112cd020d1f5</td>\n",
       "      <td>7649c6ea-a965-424a-bccb-2879df0bd6bd</td>\n",
       "    </tr>\n",
       "    <tr>\n",
       "      <th>2</th>\n",
       "      <td>120</td>\n",
       "      <td>83</td>\n",
       "      <td>2008-08-01T15:50:08Z</td>\n",
       "      <td>21</td>\n",
       "      <td>ASP.NET Site Maps</td>\n",
       "      <td>03334b31-8f56-4fc1-ac95-22d486abe1f6</td>\n",
       "      <td>db6078d0-7be4-4317-8fdd-c45b90219ea1</td>\n",
       "    </tr>\n",
       "    <tr>\n",
       "      <th>3</th>\n",
       "      <td>180</td>\n",
       "      <td>2089740</td>\n",
       "      <td>2008-08-01T18:42:19Z</td>\n",
       "      <td>53</td>\n",
       "      <td>Function for creating color wheels</td>\n",
       "      <td>8082f437-a9be-4fd1-ad7b-eb9883e39ae5</td>\n",
       "      <td>dde44f8f-b693-4048-9e06-993cce7bd17d</td>\n",
       "    </tr>\n",
       "    <tr>\n",
       "      <th>4</th>\n",
       "      <td>260</td>\n",
       "      <td>91</td>\n",
       "      <td>2008-08-01T23:22:08Z</td>\n",
       "      <td>49</td>\n",
       "      <td>Adding scripting functionality to .NET applica...</td>\n",
       "      <td>de6df771-68bf-4f06-9b57-a8d93fd2be23</td>\n",
       "      <td>5b5d50ed-700a-4154-ad00-591f65822f95</td>\n",
       "    </tr>\n",
       "  </tbody>\n",
       "</table>\n",
       "</div>"
      ],
      "text/plain": [
       "    Id  OwnerUserId          CreationDate  Score  \\\n",
       "0   80           26  2008-08-01T13:57:07Z     26   \n",
       "1   90           58  2008-08-01T14:41:24Z    144   \n",
       "2  120           83  2008-08-01T15:50:08Z     21   \n",
       "3  180      2089740  2008-08-01T18:42:19Z     53   \n",
       "4  260           91  2008-08-01T23:22:08Z     49   \n",
       "\n",
       "                                               Title  \\\n",
       "0  SQLStatement.execute() - multiple queries in o...   \n",
       "1  Good branching and merging tutorials for Torto...   \n",
       "2                                  ASP.NET Site Maps   \n",
       "3                 Function for creating color wheels   \n",
       "4  Adding scripting functionality to .NET applica...   \n",
       "\n",
       "                                    qid                                   uid  \n",
       "0  5ef5de3d-5329-483c-ae6d-a25f8761d9ba  b424ee67-f316-4771-8fc6-ef78e2c2fe44  \n",
       "1  f990b00f-94c2-4928-9347-112cd020d1f5  7649c6ea-a965-424a-bccb-2879df0bd6bd  \n",
       "2  03334b31-8f56-4fc1-ac95-22d486abe1f6  db6078d0-7be4-4317-8fdd-c45b90219ea1  \n",
       "3  8082f437-a9be-4fd1-ad7b-eb9883e39ae5  dde44f8f-b693-4048-9e06-993cce7bd17d  \n",
       "4  de6df771-68bf-4f06-9b57-a8d93fd2be23  5b5d50ed-700a-4154-ad00-591f65822f95  "
      ]
     },
     "execution_count": 72,
     "metadata": {},
     "output_type": "execute_result"
    }
   ],
   "source": [
    "df_q.head()"
   ]
  },
  {
   "cell_type": "code",
   "execution_count": 73,
   "metadata": {},
   "outputs": [
    {
     "data": {
      "text/html": [
       "<div>\n",
       "<style>\n",
       "    .dataframe thead tr:only-child th {\n",
       "        text-align: right;\n",
       "    }\n",
       "\n",
       "    .dataframe thead th {\n",
       "        text-align: left;\n",
       "    }\n",
       "\n",
       "    .dataframe tbody tr th {\n",
       "        vertical-align: top;\n",
       "    }\n",
       "</style>\n",
       "<table border=\"1\" class=\"dataframe\">\n",
       "  <thead>\n",
       "    <tr style=\"text-align: right;\">\n",
       "      <th></th>\n",
       "      <th>Id</th>\n",
       "      <th>OwnerUserId</th>\n",
       "      <th>CreationDate</th>\n",
       "      <th>ParentId</th>\n",
       "      <th>Score</th>\n",
       "      <th>qid</th>\n",
       "      <th>uid</th>\n",
       "    </tr>\n",
       "  </thead>\n",
       "  <tbody>\n",
       "    <tr>\n",
       "      <th>0</th>\n",
       "      <td>92</td>\n",
       "      <td>61</td>\n",
       "      <td>2008-08-01T14:45:37Z</td>\n",
       "      <td>90</td>\n",
       "      <td>13</td>\n",
       "      <td>f990b00f-94c2-4928-9347-112cd020d1f5</td>\n",
       "      <td>2dd78e9b-684b-4490-95fe-8eebf56dd6ff</td>\n",
       "    </tr>\n",
       "    <tr>\n",
       "      <th>1</th>\n",
       "      <td>124</td>\n",
       "      <td>26</td>\n",
       "      <td>2008-08-01T16:09:47Z</td>\n",
       "      <td>80</td>\n",
       "      <td>12</td>\n",
       "      <td>5ef5de3d-5329-483c-ae6d-a25f8761d9ba</td>\n",
       "      <td>b424ee67-f316-4771-8fc6-ef78e2c2fe44</td>\n",
       "    </tr>\n",
       "    <tr>\n",
       "      <th>2</th>\n",
       "      <td>199</td>\n",
       "      <td>50</td>\n",
       "      <td>2008-08-01T19:36:46Z</td>\n",
       "      <td>180</td>\n",
       "      <td>1</td>\n",
       "      <td>8082f437-a9be-4fd1-ad7b-eb9883e39ae5</td>\n",
       "      <td>5514769b-3b49-4e02-9067-36148116f1ed</td>\n",
       "    </tr>\n",
       "    <tr>\n",
       "      <th>3</th>\n",
       "      <td>269</td>\n",
       "      <td>91</td>\n",
       "      <td>2008-08-01T23:49:57Z</td>\n",
       "      <td>260</td>\n",
       "      <td>4</td>\n",
       "      <td>de6df771-68bf-4f06-9b57-a8d93fd2be23</td>\n",
       "      <td>5b5d50ed-700a-4154-ad00-591f65822f95</td>\n",
       "    </tr>\n",
       "    <tr>\n",
       "      <th>4</th>\n",
       "      <td>307</td>\n",
       "      <td>49</td>\n",
       "      <td>2008-08-02T01:49:46Z</td>\n",
       "      <td>260</td>\n",
       "      <td>28</td>\n",
       "      <td>de6df771-68bf-4f06-9b57-a8d93fd2be23</td>\n",
       "      <td>bc0e0074-98ba-4154-a02c-5203c5295f0d</td>\n",
       "    </tr>\n",
       "  </tbody>\n",
       "</table>\n",
       "</div>"
      ],
      "text/plain": [
       "    Id  OwnerUserId          CreationDate  ParentId  Score  \\\n",
       "0   92           61  2008-08-01T14:45:37Z        90     13   \n",
       "1  124           26  2008-08-01T16:09:47Z        80     12   \n",
       "2  199           50  2008-08-01T19:36:46Z       180      1   \n",
       "3  269           91  2008-08-01T23:49:57Z       260      4   \n",
       "4  307           49  2008-08-02T01:49:46Z       260     28   \n",
       "\n",
       "                                    qid                                   uid  \n",
       "0  f990b00f-94c2-4928-9347-112cd020d1f5  2dd78e9b-684b-4490-95fe-8eebf56dd6ff  \n",
       "1  5ef5de3d-5329-483c-ae6d-a25f8761d9ba  b424ee67-f316-4771-8fc6-ef78e2c2fe44  \n",
       "2  8082f437-a9be-4fd1-ad7b-eb9883e39ae5  5514769b-3b49-4e02-9067-36148116f1ed  \n",
       "3  de6df771-68bf-4f06-9b57-a8d93fd2be23  5b5d50ed-700a-4154-ad00-591f65822f95  \n",
       "4  de6df771-68bf-4f06-9b57-a8d93fd2be23  bc0e0074-98ba-4154-a02c-5203c5295f0d  "
      ]
     },
     "execution_count": 73,
     "metadata": {},
     "output_type": "execute_result"
    }
   ],
   "source": [
    "df_a.head()"
   ]
  },
  {
   "cell_type": "code",
   "execution_count": 74,
   "metadata": {},
   "outputs": [
    {
     "data": {
      "text/html": [
       "<div>\n",
       "<style>\n",
       "    .dataframe thead tr:only-child th {\n",
       "        text-align: right;\n",
       "    }\n",
       "\n",
       "    .dataframe thead th {\n",
       "        text-align: left;\n",
       "    }\n",
       "\n",
       "    .dataframe tbody tr th {\n",
       "        vertical-align: top;\n",
       "    }\n",
       "</style>\n",
       "<table border=\"1\" class=\"dataframe\">\n",
       "  <thead>\n",
       "    <tr style=\"text-align: right;\">\n",
       "      <th></th>\n",
       "      <th>Id</th>\n",
       "      <th>Tag</th>\n",
       "    </tr>\n",
       "  </thead>\n",
       "  <tbody>\n",
       "    <tr>\n",
       "      <th>0</th>\n",
       "      <td>80</td>\n",
       "      <td>flex</td>\n",
       "    </tr>\n",
       "    <tr>\n",
       "      <th>1</th>\n",
       "      <td>80</td>\n",
       "      <td>actionscript-3</td>\n",
       "    </tr>\n",
       "    <tr>\n",
       "      <th>2</th>\n",
       "      <td>80</td>\n",
       "      <td>air</td>\n",
       "    </tr>\n",
       "    <tr>\n",
       "      <th>3</th>\n",
       "      <td>90</td>\n",
       "      <td>svn</td>\n",
       "    </tr>\n",
       "    <tr>\n",
       "      <th>4</th>\n",
       "      <td>90</td>\n",
       "      <td>tortoisesvn</td>\n",
       "    </tr>\n",
       "  </tbody>\n",
       "</table>\n",
       "</div>"
      ],
      "text/plain": [
       "   Id             Tag\n",
       "0  80            flex\n",
       "1  80  actionscript-3\n",
       "2  80             air\n",
       "3  90             svn\n",
       "4  90     tortoisesvn"
      ]
     },
     "execution_count": 74,
     "metadata": {},
     "output_type": "execute_result"
    }
   ],
   "source": [
    "df_t.head()"
   ]
  },
  {
   "cell_type": "code",
   "execution_count": 75,
   "metadata": {},
   "outputs": [
    {
     "name": "stdout",
     "output_type": "stream",
     "text": [
      "<class 'pandas.core.frame.DataFrame'>\n",
      "RangeIndex: 16912 entries, 0 to 16911\n",
      "Data columns (total 2 columns):\n",
      "Id     16912 non-null int64\n",
      "Tag    16912 non-null object\n",
      "dtypes: int64(1), object(1)\n",
      "memory usage: 264.3+ KB\n"
     ]
    }
   ],
   "source": [
    "df_t.info()"
   ]
  },
  {
   "cell_type": "code",
   "execution_count": 76,
   "metadata": {},
   "outputs": [
    {
     "name": "stdout",
     "output_type": "stream",
     "text": [
      "<class 'pandas.core.frame.DataFrame'>\n",
      "Int64Index: 5299 entries, 0 to 5824\n",
      "Data columns (total 7 columns):\n",
      "Id              5299 non-null int64\n",
      "OwnerUserId     5299 non-null int64\n",
      "CreationDate    5299 non-null object\n",
      "Score           5299 non-null int64\n",
      "Title           5299 non-null object\n",
      "qid             5299 non-null object\n",
      "uid             5299 non-null object\n",
      "dtypes: int64(3), object(4)\n",
      "memory usage: 331.2+ KB\n"
     ]
    }
   ],
   "source": [
    "df_q.info()"
   ]
  },
  {
   "cell_type": "markdown",
   "metadata": {},
   "source": [
    "## Questions Only"
   ]
  },
  {
   "cell_type": "code",
   "execution_count": 77,
   "metadata": {
    "collapsed": true
   },
   "outputs": [],
   "source": [
    "tags_to_questions = {}\n",
    "for g, data in df_t.groupby(['Tag']):\n",
    "    tags_to_questions[g] = set(df_q.qid[df_q.Id.isin(data.Id)].values)\n",
    "\n",
    "questions_to_questions = {}\n",
    "for t, quids in tags_to_questions.items():\n",
    "    for i, q in enumerate(quids):\n",
    "        if q in questions_to_questions.keys():\n",
    "            questions_to_questions[q].update(quids)\n",
    "        else:\n",
    "            questions_to_questions[q] = set(quids)\n",
    "        questions_to_questions[q].remove(q)\n",
    "\n",
    "questions = list(questions_to_questions.keys())\n",
    "questions_to_idx = {}\n",
    "for i, q in enumerate(questions):\n",
    "    questions_to_idx[q] = i"
   ]
  },
  {
   "cell_type": "code",
   "execution_count": 78,
   "metadata": {
    "collapsed": true
   },
   "outputs": [],
   "source": [
    "edges = []\n",
    "for k, v in questions_to_questions.items():\n",
    "    for q in v:\n",
    "        edges.append((questions_to_idx[k], questions_to_idx[q]))"
   ]
  },
  {
   "cell_type": "code",
   "execution_count": 79,
   "metadata": {
    "collapsed": true
   },
   "outputs": [],
   "source": [
    "graph = igraph.Graph(edges=edges, directed=False).simplify(multiple=True, loops=False)\n",
    "graph.vs['name'] = questions"
   ]
  },
  {
   "cell_type": "code",
   "execution_count": 80,
   "metadata": {
    "collapsed": true
   },
   "outputs": [],
   "source": [
    "def get_largest_component(g):\n",
    "    comps = g.components()\n",
    "    sizes = comps.sizes()\n",
    "    idx_largest = sizes.index(max(sizes))\n",
    "    return comps.subgraph(idx_largest)"
   ]
  },
  {
   "cell_type": "code",
   "execution_count": 81,
   "metadata": {
    "collapsed": true
   },
   "outputs": [],
   "source": [
    "largest = get_largest_component(graph)"
   ]
  },
  {
   "cell_type": "markdown",
   "metadata": {},
   "source": [
    "## Karate Club"
   ]
  },
  {
   "cell_type": "code",
   "execution_count": 105,
   "metadata": {},
   "outputs": [],
   "source": [
    "karate = igraph.Graph.Read_GML('./data/karate/karate.gml')\n",
    "largest = get_largest_component(karate)\n",
    "largest.vs['name'] = [str(uuid.uuid4()) for _ in range(len(largest.vs))]"
   ]
  },
  {
   "cell_type": "markdown",
   "metadata": {},
   "source": [
    "## Spectral Bisection"
   ]
  },
  {
   "cell_type": "code",
   "execution_count": 106,
   "metadata": {
    "collapsed": true
   },
   "outputs": [],
   "source": [
    "def get_smallest_component(g):\n",
    "    comps = g.components()\n",
    "    sizes = comps.sizes()\n",
    "    idx_largest = sizes.index(2)\n",
    "    return comps.subgraph(idx_largest)\n",
    "\n",
    "smallest = get_smallest_component(graph)"
   ]
  },
  {
   "cell_type": "code",
   "execution_count": 112,
   "metadata": {},
   "outputs": [
    {
     "name": "stdout",
     "output_type": "stream",
     "text": [
      "[3, 4, 9, 11, 12, 13, 17, 18, 19, 20, 21, 22, 23, 29, 31, 32, 33]\n",
      "[0, 1, 2, 5, 6, 7, 8, 10, 14, 15, 16, 24, 25, 26, 27, 28, 30]\n",
      "[1, 1, 1, 0, 0, 1, 1, 1, 1, 0, 1, 0, 0, 0, 1, 1, 1, 0, 0, 0, 0, 0, 0, 0, 1, 1, 1, 1, 1, 0, 1, 0, 0, 0]\n"
     ]
    }
   ],
   "source": [
    "import importlib\n",
    "import methods\n",
    "\n",
    "importlib.reload(methods)\n",
    "\n",
    "p = methods.spectral_bisection(largest)\n",
    "# methods.spectral_bisection(smallest)"
   ]
  },
  {
   "cell_type": "code",
   "execution_count": 110,
   "metadata": {},
   "outputs": [
    {
     "data": {
      "image/svg+xml": [
       "<?xml version=\"1.0\" encoding=\"UTF-8\"?>\n",
       "<svg xmlns=\"http://www.w3.org/2000/svg\" xmlns:xlink=\"http://www.w3.org/1999/xlink\" width=\"600pt\" height=\"600pt\" viewBox=\"0 0 600 600\" version=\"1.1\">\n",
       "<g id=\"surface45\">\n",
       "<rect x=\"0\" y=\"0\" width=\"600\" height=\"600\" style=\"fill:rgb(100%,100%,100%);fill-opacity:1;stroke:none;\"/>\n",
       "<path style=\"fill:none;stroke-width:1;stroke-linecap:butt;stroke-linejoin:miter;stroke:rgb(26.666667%,26.666667%,26.666667%);stroke-opacity:1;stroke-miterlimit:10;\" d=\"M 170.980469 306.015625 L 170.164062 145.386719 \"/>\n",
       "<path style=\"fill:none;stroke-width:1;stroke-linecap:butt;stroke-linejoin:miter;stroke:rgb(26.666667%,26.666667%,26.666667%);stroke-opacity:1;stroke-miterlimit:10;\" d=\"M 170.980469 306.015625 L 271.582031 239.972656 \"/>\n",
       "<path style=\"fill:none;stroke-width:1;stroke-linecap:butt;stroke-linejoin:miter;stroke:rgb(26.666667%,26.666667%,26.666667%);stroke-opacity:1;stroke-miterlimit:10;\" d=\"M 170.164062 145.386719 L 271.582031 239.972656 \"/>\n",
       "<path style=\"fill:none;stroke-width:1;stroke-linecap:butt;stroke-linejoin:miter;stroke:rgb(26.666667%,26.666667%,26.666667%);stroke-opacity:1;stroke-miterlimit:10;\" d=\"M 170.980469 306.015625 L 161.203125 243.695312 \"/>\n",
       "<path style=\"fill:none;stroke-width:1;stroke-linecap:butt;stroke-linejoin:miter;stroke:rgb(26.666667%,26.666667%,26.666667%);stroke-opacity:1;stroke-miterlimit:10;\" d=\"M 170.164062 145.386719 L 161.203125 243.695312 \"/>\n",
       "<path style=\"fill:none;stroke-width:1;stroke-linecap:butt;stroke-linejoin:miter;stroke:rgb(26.666667%,26.666667%,26.666667%);stroke-opacity:1;stroke-miterlimit:10;\" d=\"M 271.582031 239.972656 L 161.203125 243.695312 \"/>\n",
       "<path style=\"fill:none;stroke-width:1;stroke-linecap:butt;stroke-linejoin:miter;stroke:rgb(26.666667%,26.666667%,26.666667%);stroke-opacity:1;stroke-miterlimit:10;\" d=\"M 170.980469 306.015625 L 184.113281 444.703125 \"/>\n",
       "<path style=\"fill:none;stroke-width:1;stroke-linecap:butt;stroke-linejoin:miter;stroke:rgb(26.666667%,26.666667%,26.666667%);stroke-opacity:1;stroke-miterlimit:10;\" d=\"M 170.980469 306.015625 L 148.507812 474.382812 \"/>\n",
       "<path style=\"fill:none;stroke-width:1;stroke-linecap:butt;stroke-linejoin:miter;stroke:rgb(26.666667%,26.666667%,26.666667%);stroke-opacity:1;stroke-miterlimit:10;\" d=\"M 170.980469 306.015625 L 85.136719 442.242188 \"/>\n",
       "<path style=\"fill:none;stroke-width:1;stroke-linecap:butt;stroke-linejoin:miter;stroke:rgb(26.666667%,26.666667%,26.666667%);stroke-opacity:1;stroke-miterlimit:10;\" d=\"M 184.113281 444.703125 L 85.136719 442.242188 \"/>\n",
       "<path style=\"fill:none;stroke-width:1;stroke-linecap:butt;stroke-linejoin:miter;stroke:rgb(26.666667%,26.666667%,26.666667%);stroke-opacity:1;stroke-miterlimit:10;\" d=\"M 148.507812 474.382812 L 85.136719 442.242188 \"/>\n",
       "<path style=\"fill:none;stroke-width:1;stroke-linecap:butt;stroke-linejoin:miter;stroke:rgb(26.666667%,26.666667%,26.666667%);stroke-opacity:1;stroke-miterlimit:10;\" d=\"M 170.980469 306.015625 L 131.03125 188.195312 \"/>\n",
       "<path style=\"fill:none;stroke-width:1;stroke-linecap:butt;stroke-linejoin:miter;stroke:rgb(26.666667%,26.666667%,26.666667%);stroke-opacity:1;stroke-miterlimit:10;\" d=\"M 170.164062 145.386719 L 131.03125 188.195312 \"/>\n",
       "<path style=\"fill:none;stroke-width:1;stroke-linecap:butt;stroke-linejoin:miter;stroke:rgb(26.666667%,26.666667%,26.666667%);stroke-opacity:1;stroke-miterlimit:10;\" d=\"M 271.582031 239.972656 L 131.03125 188.195312 \"/>\n",
       "<path style=\"fill:none;stroke-width:1;stroke-linecap:butt;stroke-linejoin:miter;stroke:rgb(26.666667%,26.666667%,26.666667%);stroke-opacity:1;stroke-miterlimit:10;\" d=\"M 161.203125 243.695312 L 131.03125 188.195312 \"/>\n",
       "<path style=\"fill:none;stroke-width:1;stroke-linecap:butt;stroke-linejoin:miter;stroke:rgb(26.666667%,26.666667%,26.666667%);stroke-opacity:1;stroke-miterlimit:10;\" d=\"M 170.980469 306.015625 L 315.847656 260.933594 \"/>\n",
       "<path style=\"fill:none;stroke-width:1;stroke-linecap:butt;stroke-linejoin:miter;stroke:rgb(26.666667%,26.666667%,26.666667%);stroke-opacity:1;stroke-miterlimit:10;\" d=\"M 271.582031 239.972656 L 315.847656 260.933594 \"/>\n",
       "<path style=\"fill:none;stroke-width:1;stroke-linecap:butt;stroke-linejoin:miter;stroke:rgb(26.666667%,26.666667%,26.666667%);stroke-opacity:1;stroke-miterlimit:10;\" d=\"M 271.582031 239.972656 L 311.703125 56.386719 \"/>\n",
       "<path style=\"fill:none;stroke-width:1;stroke-linecap:butt;stroke-linejoin:miter;stroke:rgb(26.666667%,26.666667%,26.666667%);stroke-opacity:1;stroke-miterlimit:10;\" d=\"M 170.980469 306.015625 L 87.953125 394.347656 \"/>\n",
       "<path style=\"fill:none;stroke-width:1;stroke-linecap:butt;stroke-linejoin:miter;stroke:rgb(26.666667%,26.666667%,26.666667%);stroke-opacity:1;stroke-miterlimit:10;\" d=\"M 184.113281 444.703125 L 87.953125 394.347656 \"/>\n",
       "<path style=\"fill:none;stroke-width:1;stroke-linecap:butt;stroke-linejoin:miter;stroke:rgb(26.666667%,26.666667%,26.666667%);stroke-opacity:1;stroke-miterlimit:10;\" d=\"M 148.507812 474.382812 L 87.953125 394.347656 \"/>\n",
       "<path style=\"fill:none;stroke-width:1;stroke-linecap:butt;stroke-linejoin:miter;stroke:rgb(26.666667%,26.666667%,26.666667%);stroke-opacity:1;stroke-miterlimit:10;\" d=\"M 170.980469 306.015625 L 20 339.496094 \"/>\n",
       "<path style=\"fill:none;stroke-width:1;stroke-linecap:butt;stroke-linejoin:miter;stroke:rgb(26.666667%,26.666667%,26.666667%);stroke-opacity:1;stroke-miterlimit:10;\" d=\"M 170.980469 306.015625 L 30.460938 278.273438 \"/>\n",
       "<path style=\"fill:none;stroke-width:1;stroke-linecap:butt;stroke-linejoin:miter;stroke:rgb(26.666667%,26.666667%,26.666667%);stroke-opacity:1;stroke-miterlimit:10;\" d=\"M 161.203125 243.695312 L 30.460938 278.273438 \"/>\n",
       "<path style=\"fill:none;stroke-width:1;stroke-linecap:butt;stroke-linejoin:miter;stroke:rgb(26.666667%,26.666667%,26.666667%);stroke-opacity:1;stroke-miterlimit:10;\" d=\"M 170.980469 306.015625 L 250.226562 161.777344 \"/>\n",
       "<path style=\"fill:none;stroke-width:1;stroke-linecap:butt;stroke-linejoin:miter;stroke:rgb(26.666667%,26.666667%,26.666667%);stroke-opacity:1;stroke-miterlimit:10;\" d=\"M 170.164062 145.386719 L 250.226562 161.777344 \"/>\n",
       "<path style=\"fill:none;stroke-width:1;stroke-linecap:butt;stroke-linejoin:miter;stroke:rgb(26.666667%,26.666667%,26.666667%);stroke-opacity:1;stroke-miterlimit:10;\" d=\"M 271.582031 239.972656 L 250.226562 161.777344 \"/>\n",
       "<path style=\"fill:none;stroke-width:1;stroke-linecap:butt;stroke-linejoin:miter;stroke:rgb(26.666667%,26.666667%,26.666667%);stroke-opacity:1;stroke-miterlimit:10;\" d=\"M 161.203125 243.695312 L 250.226562 161.777344 \"/>\n",
       "<path style=\"fill:none;stroke-width:1;stroke-linecap:butt;stroke-linejoin:miter;stroke:rgb(26.666667%,26.666667%,26.666667%);stroke-opacity:1;stroke-miterlimit:10;\" d=\"M 148.507812 474.382812 L 52.019531 580 \"/>\n",
       "<path style=\"fill:none;stroke-width:1;stroke-linecap:butt;stroke-linejoin:miter;stroke:rgb(26.666667%,26.666667%,26.666667%);stroke-opacity:1;stroke-miterlimit:10;\" d=\"M 85.136719 442.242188 L 52.019531 580 \"/>\n",
       "<path style=\"fill:none;stroke-width:1;stroke-linecap:butt;stroke-linejoin:miter;stroke:rgb(26.666667%,26.666667%,26.666667%);stroke-opacity:1;stroke-miterlimit:10;\" d=\"M 170.980469 306.015625 L 39.84375 204.761719 \"/>\n",
       "<path style=\"fill:none;stroke-width:1;stroke-linecap:butt;stroke-linejoin:miter;stroke:rgb(26.666667%,26.666667%,26.666667%);stroke-opacity:1;stroke-miterlimit:10;\" d=\"M 170.164062 145.386719 L 39.84375 204.761719 \"/>\n",
       "<path style=\"fill:none;stroke-width:1;stroke-linecap:butt;stroke-linejoin:miter;stroke:rgb(26.666667%,26.666667%,26.666667%);stroke-opacity:1;stroke-miterlimit:10;\" d=\"M 170.980469 306.015625 L 269.597656 198.636719 \"/>\n",
       "<path style=\"fill:none;stroke-width:1;stroke-linecap:butt;stroke-linejoin:miter;stroke:rgb(26.666667%,26.666667%,26.666667%);stroke-opacity:1;stroke-miterlimit:10;\" d=\"M 170.164062 145.386719 L 269.597656 198.636719 \"/>\n",
       "<path style=\"fill:none;stroke-width:1;stroke-linecap:butt;stroke-linejoin:miter;stroke:rgb(26.666667%,26.666667%,26.666667%);stroke-opacity:1;stroke-miterlimit:10;\" d=\"M 170.980469 306.015625 L 56.484375 147.328125 \"/>\n",
       "<path style=\"fill:none;stroke-width:1;stroke-linecap:butt;stroke-linejoin:miter;stroke:rgb(26.666667%,26.666667%,26.666667%);stroke-opacity:1;stroke-miterlimit:10;\" d=\"M 170.164062 145.386719 L 56.484375 147.328125 \"/>\n",
       "<path style=\"fill:none;stroke-width:1;stroke-linecap:butt;stroke-linejoin:miter;stroke:rgb(26.666667%,26.666667%,26.666667%);stroke-opacity:1;stroke-miterlimit:10;\" d=\"M 510.574219 313.871094 L 461.136719 451.175781 \"/>\n",
       "<path style=\"fill:none;stroke-width:1;stroke-linecap:butt;stroke-linejoin:miter;stroke:rgb(26.666667%,26.666667%,26.666667%);stroke-opacity:1;stroke-miterlimit:10;\" d=\"M 380.792969 479.996094 L 461.136719 451.175781 \"/>\n",
       "<path style=\"fill:none;stroke-width:1;stroke-linecap:butt;stroke-linejoin:miter;stroke:rgb(26.666667%,26.666667%,26.666667%);stroke-opacity:1;stroke-miterlimit:10;\" d=\"M 271.582031 239.972656 L 405.238281 335.738281 \"/>\n",
       "<path style=\"fill:none;stroke-width:1;stroke-linecap:butt;stroke-linejoin:miter;stroke:rgb(26.666667%,26.666667%,26.666667%);stroke-opacity:1;stroke-miterlimit:10;\" d=\"M 510.574219 313.871094 L 405.238281 335.738281 \"/>\n",
       "<path style=\"fill:none;stroke-width:1;stroke-linecap:butt;stroke-linejoin:miter;stroke:rgb(26.666667%,26.666667%,26.666667%);stroke-opacity:1;stroke-miterlimit:10;\" d=\"M 380.792969 479.996094 L 405.238281 335.738281 \"/>\n",
       "<path style=\"fill:none;stroke-width:1;stroke-linecap:butt;stroke-linejoin:miter;stroke:rgb(26.666667%,26.666667%,26.666667%);stroke-opacity:1;stroke-miterlimit:10;\" d=\"M 271.582031 239.972656 L 401.714844 281.644531 \"/>\n",
       "<path style=\"fill:none;stroke-width:1;stroke-linecap:butt;stroke-linejoin:miter;stroke:rgb(26.666667%,26.666667%,26.666667%);stroke-opacity:1;stroke-miterlimit:10;\" d=\"M 510.574219 313.871094 L 546.316406 212.804688 \"/>\n",
       "<path style=\"fill:none;stroke-width:1;stroke-linecap:butt;stroke-linejoin:miter;stroke:rgb(26.666667%,26.666667%,26.666667%);stroke-opacity:1;stroke-miterlimit:10;\" d=\"M 580 134.898438 L 546.316406 212.804688 \"/>\n",
       "<path style=\"fill:none;stroke-width:1;stroke-linecap:butt;stroke-linejoin:miter;stroke:rgb(26.666667%,26.666667%,26.666667%);stroke-opacity:1;stroke-miterlimit:10;\" d=\"M 170.164062 145.386719 L 313.378906 107.480469 \"/>\n",
       "<path style=\"fill:none;stroke-width:1;stroke-linecap:butt;stroke-linejoin:miter;stroke:rgb(26.666667%,26.666667%,26.666667%);stroke-opacity:1;stroke-miterlimit:10;\" d=\"M 315.847656 260.933594 L 313.378906 107.480469 \"/>\n",
       "<path style=\"fill:none;stroke-width:1;stroke-linecap:butt;stroke-linejoin:miter;stroke:rgb(26.666667%,26.666667%,26.666667%);stroke-opacity:1;stroke-miterlimit:10;\" d=\"M 170.980469 306.015625 L 332.90625 339.753906 \"/>\n",
       "<path style=\"fill:none;stroke-width:1;stroke-linecap:butt;stroke-linejoin:miter;stroke:rgb(26.666667%,26.666667%,26.666667%);stroke-opacity:1;stroke-miterlimit:10;\" d=\"M 380.792969 479.996094 L 332.90625 339.753906 \"/>\n",
       "<path style=\"fill:none;stroke-width:1;stroke-linecap:butt;stroke-linejoin:miter;stroke:rgb(26.666667%,26.666667%,26.666667%);stroke-opacity:1;stroke-miterlimit:10;\" d=\"M 461.136719 451.175781 L 332.90625 339.753906 \"/>\n",
       "<path style=\"fill:none;stroke-width:1;stroke-linecap:butt;stroke-linejoin:miter;stroke:rgb(26.666667%,26.666667%,26.666667%);stroke-opacity:1;stroke-miterlimit:10;\" d=\"M 401.714844 281.644531 L 332.90625 339.753906 \"/>\n",
       "<path style=\"fill:none;stroke-width:1;stroke-linecap:butt;stroke-linejoin:miter;stroke:rgb(26.666667%,26.666667%,26.666667%);stroke-opacity:1;stroke-miterlimit:10;\" d=\"M 271.582031 239.972656 L 428.628906 196.828125 \"/>\n",
       "<path style=\"fill:none;stroke-width:1;stroke-linecap:butt;stroke-linejoin:miter;stroke:rgb(26.666667%,26.666667%,26.666667%);stroke-opacity:1;stroke-miterlimit:10;\" d=\"M 315.847656 260.933594 L 428.628906 196.828125 \"/>\n",
       "<path style=\"fill:none;stroke-width:1;stroke-linecap:butt;stroke-linejoin:miter;stroke:rgb(26.666667%,26.666667%,26.666667%);stroke-opacity:1;stroke-miterlimit:10;\" d=\"M 495.488281 61.316406 L 428.628906 196.828125 \"/>\n",
       "<path style=\"fill:none;stroke-width:1;stroke-linecap:butt;stroke-linejoin:miter;stroke:rgb(26.666667%,26.666667%,26.666667%);stroke-opacity:1;stroke-miterlimit:10;\" d=\"M 407.152344 20 L 428.628906 196.828125 \"/>\n",
       "<path style=\"fill:none;stroke-width:1;stroke-linecap:butt;stroke-linejoin:miter;stroke:rgb(26.666667%,26.666667%,26.666667%);stroke-opacity:1;stroke-miterlimit:10;\" d=\"M 452.839844 34.355469 L 428.628906 196.828125 \"/>\n",
       "<path style=\"fill:none;stroke-width:1;stroke-linecap:butt;stroke-linejoin:miter;stroke:rgb(26.666667%,26.666667%,26.666667%);stroke-opacity:1;stroke-miterlimit:10;\" d=\"M 551.039062 254.710938 L 428.628906 196.828125 \"/>\n",
       "<path style=\"fill:none;stroke-width:1;stroke-linecap:butt;stroke-linejoin:miter;stroke:rgb(26.666667%,26.666667%,26.666667%);stroke-opacity:1;stroke-miterlimit:10;\" d=\"M 524.035156 110.171875 L 428.628906 196.828125 \"/>\n",
       "<path style=\"fill:none;stroke-width:1;stroke-linecap:butt;stroke-linejoin:miter;stroke:rgb(26.666667%,26.666667%,26.666667%);stroke-opacity:1;stroke-miterlimit:10;\" d=\"M 510.574219 313.871094 L 428.628906 196.828125 \"/>\n",
       "<path style=\"fill:none;stroke-width:1;stroke-linecap:butt;stroke-linejoin:miter;stroke:rgb(26.666667%,26.666667%,26.666667%);stroke-opacity:1;stroke-miterlimit:10;\" d=\"M 546.316406 212.804688 L 428.628906 196.828125 \"/>\n",
       "<path style=\"fill:none;stroke-width:1;stroke-linecap:butt;stroke-linejoin:miter;stroke:rgb(26.666667%,26.666667%,26.666667%);stroke-opacity:1;stroke-miterlimit:10;\" d=\"M 313.378906 107.480469 L 428.628906 196.828125 \"/>\n",
       "<path style=\"fill:none;stroke-width:1;stroke-linecap:butt;stroke-linejoin:miter;stroke:rgb(26.666667%,26.666667%,26.666667%);stroke-opacity:1;stroke-miterlimit:10;\" d=\"M 332.90625 339.753906 L 428.628906 196.828125 \"/>\n",
       "<path style=\"fill:none;stroke-width:1;stroke-linecap:butt;stroke-linejoin:miter;stroke:rgb(26.666667%,26.666667%,26.666667%);stroke-opacity:1;stroke-miterlimit:10;\" d=\"M 315.847656 260.933594 L 411.316406 171.5 \"/>\n",
       "<path style=\"fill:none;stroke-width:1;stroke-linecap:butt;stroke-linejoin:miter;stroke:rgb(26.666667%,26.666667%,26.666667%);stroke-opacity:1;stroke-miterlimit:10;\" d=\"M 311.703125 56.386719 L 411.316406 171.5 \"/>\n",
       "<path style=\"fill:none;stroke-width:1;stroke-linecap:butt;stroke-linejoin:miter;stroke:rgb(26.666667%,26.666667%,26.666667%);stroke-opacity:1;stroke-miterlimit:10;\" d=\"M 250.226562 161.777344 L 411.316406 171.5 \"/>\n",
       "<path style=\"fill:none;stroke-width:1;stroke-linecap:butt;stroke-linejoin:miter;stroke:rgb(26.666667%,26.666667%,26.666667%);stroke-opacity:1;stroke-miterlimit:10;\" d=\"M 495.488281 61.316406 L 411.316406 171.5 \"/>\n",
       "<path style=\"fill:none;stroke-width:1;stroke-linecap:butt;stroke-linejoin:miter;stroke:rgb(26.666667%,26.666667%,26.666667%);stroke-opacity:1;stroke-miterlimit:10;\" d=\"M 407.152344 20 L 411.316406 171.5 \"/>\n",
       "<path style=\"fill:none;stroke-width:1;stroke-linecap:butt;stroke-linejoin:miter;stroke:rgb(26.666667%,26.666667%,26.666667%);stroke-opacity:1;stroke-miterlimit:10;\" d=\"M 452.839844 34.355469 L 411.316406 171.5 \"/>\n",
       "<path style=\"fill:none;stroke-width:1;stroke-linecap:butt;stroke-linejoin:miter;stroke:rgb(26.666667%,26.666667%,26.666667%);stroke-opacity:1;stroke-miterlimit:10;\" d=\"M 269.597656 198.636719 L 411.316406 171.5 \"/>\n",
       "<path style=\"fill:none;stroke-width:1;stroke-linecap:butt;stroke-linejoin:miter;stroke:rgb(26.666667%,26.666667%,26.666667%);stroke-opacity:1;stroke-miterlimit:10;\" d=\"M 551.039062 254.710938 L 411.316406 171.5 \"/>\n",
       "<path style=\"fill:none;stroke-width:1;stroke-linecap:butt;stroke-linejoin:miter;stroke:rgb(26.666667%,26.666667%,26.666667%);stroke-opacity:1;stroke-miterlimit:10;\" d=\"M 524.035156 110.171875 L 411.316406 171.5 \"/>\n",
       "<path style=\"fill:none;stroke-width:1;stroke-linecap:butt;stroke-linejoin:miter;stroke:rgb(26.666667%,26.666667%,26.666667%);stroke-opacity:1;stroke-miterlimit:10;\" d=\"M 510.574219 313.871094 L 411.316406 171.5 \"/>\n",
       "<path style=\"fill:none;stroke-width:1;stroke-linecap:butt;stroke-linejoin:miter;stroke:rgb(26.666667%,26.666667%,26.666667%);stroke-opacity:1;stroke-miterlimit:10;\" d=\"M 580 134.898438 L 411.316406 171.5 \"/>\n",
       "<path style=\"fill:none;stroke-width:1;stroke-linecap:butt;stroke-linejoin:miter;stroke:rgb(26.666667%,26.666667%,26.666667%);stroke-opacity:1;stroke-miterlimit:10;\" d=\"M 405.238281 335.738281 L 411.316406 171.5 \"/>\n",
       "<path style=\"fill:none;stroke-width:1;stroke-linecap:butt;stroke-linejoin:miter;stroke:rgb(26.666667%,26.666667%,26.666667%);stroke-opacity:1;stroke-miterlimit:10;\" d=\"M 401.714844 281.644531 L 411.316406 171.5 \"/>\n",
       "<path style=\"fill:none;stroke-width:1;stroke-linecap:butt;stroke-linejoin:miter;stroke:rgb(26.666667%,26.666667%,26.666667%);stroke-opacity:1;stroke-miterlimit:10;\" d=\"M 546.316406 212.804688 L 411.316406 171.5 \"/>\n",
       "<path style=\"fill:none;stroke-width:1;stroke-linecap:butt;stroke-linejoin:miter;stroke:rgb(26.666667%,26.666667%,26.666667%);stroke-opacity:1;stroke-miterlimit:10;\" d=\"M 313.378906 107.480469 L 411.316406 171.5 \"/>\n",
       "<path style=\"fill:none;stroke-width:1;stroke-linecap:butt;stroke-linejoin:miter;stroke:rgb(26.666667%,26.666667%,26.666667%);stroke-opacity:1;stroke-miterlimit:10;\" d=\"M 332.90625 339.753906 L 411.316406 171.5 \"/>\n",
       "<path style=\"fill:none;stroke-width:1;stroke-linecap:butt;stroke-linejoin:miter;stroke:rgb(26.666667%,26.666667%,26.666667%);stroke-opacity:1;stroke-miterlimit:10;\" d=\"M 428.628906 196.828125 L 411.316406 171.5 \"/>\n",
       "<path style=\"fill-rule:nonzero;fill:rgb(0%,100%,0%);fill-opacity:1;stroke-width:1;stroke-linecap:butt;stroke-linejoin:miter;stroke:rgb(0%,0%,0%);stroke-opacity:1;stroke-miterlimit:10;\" d=\"M 180.980469 306.015625 C 180.980469 311.535156 176.503906 316.015625 170.980469 316.015625 C 165.457031 316.015625 160.980469 311.535156 160.980469 306.015625 C 160.980469 300.492188 165.457031 296.015625 170.980469 296.015625 C 176.503906 296.015625 180.980469 300.492188 180.980469 306.015625 \"/>\n",
       "<path style=\"fill-rule:nonzero;fill:rgb(0%,100%,0%);fill-opacity:1;stroke-width:1;stroke-linecap:butt;stroke-linejoin:miter;stroke:rgb(0%,0%,0%);stroke-opacity:1;stroke-miterlimit:10;\" d=\"M 180.164062 145.386719 C 180.164062 150.910156 175.6875 155.386719 170.164062 155.386719 C 164.640625 155.386719 160.164062 150.910156 160.164062 145.386719 C 160.164062 139.867188 164.640625 135.386719 170.164062 135.386719 C 175.6875 135.386719 180.164062 139.867188 180.164062 145.386719 \"/>\n",
       "<path style=\"fill-rule:nonzero;fill:rgb(0%,100%,0%);fill-opacity:1;stroke-width:1;stroke-linecap:butt;stroke-linejoin:miter;stroke:rgb(0%,0%,0%);stroke-opacity:1;stroke-miterlimit:10;\" d=\"M 281.582031 239.972656 C 281.582031 245.492188 277.105469 249.972656 271.582031 249.972656 C 266.058594 249.972656 261.582031 245.492188 261.582031 239.972656 C 261.582031 234.449219 266.058594 229.972656 271.582031 229.972656 C 277.105469 229.972656 281.582031 234.449219 281.582031 239.972656 \"/>\n",
       "<path style=\"fill-rule:nonzero;fill:rgb(100%,0%,0%);fill-opacity:1;stroke-width:1;stroke-linecap:butt;stroke-linejoin:miter;stroke:rgb(0%,0%,0%);stroke-opacity:1;stroke-miterlimit:10;\" d=\"M 171.203125 243.695312 C 171.203125 249.21875 166.722656 253.695312 161.203125 253.695312 C 155.679688 253.695312 151.203125 249.21875 151.203125 243.695312 C 151.203125 238.171875 155.679688 233.695312 161.203125 233.695312 C 166.722656 233.695312 171.203125 238.171875 171.203125 243.695312 \"/>\n",
       "<path style=\"fill-rule:nonzero;fill:rgb(100%,0%,0%);fill-opacity:1;stroke-width:1;stroke-linecap:butt;stroke-linejoin:miter;stroke:rgb(0%,0%,0%);stroke-opacity:1;stroke-miterlimit:10;\" d=\"M 194.113281 444.703125 C 194.113281 450.226562 189.636719 454.703125 184.113281 454.703125 C 178.589844 454.703125 174.113281 450.226562 174.113281 444.703125 C 174.113281 439.179688 178.589844 434.703125 184.113281 434.703125 C 189.636719 434.703125 194.113281 439.179688 194.113281 444.703125 \"/>\n",
       "<path style=\"fill-rule:nonzero;fill:rgb(0%,100%,0%);fill-opacity:1;stroke-width:1;stroke-linecap:butt;stroke-linejoin:miter;stroke:rgb(0%,0%,0%);stroke-opacity:1;stroke-miterlimit:10;\" d=\"M 158.507812 474.382812 C 158.507812 479.90625 154.03125 484.382812 148.507812 484.382812 C 142.984375 484.382812 138.507812 479.90625 138.507812 474.382812 C 138.507812 468.859375 142.984375 464.382812 148.507812 464.382812 C 154.03125 464.382812 158.507812 468.859375 158.507812 474.382812 \"/>\n",
       "<path style=\"fill-rule:nonzero;fill:rgb(0%,100%,0%);fill-opacity:1;stroke-width:1;stroke-linecap:butt;stroke-linejoin:miter;stroke:rgb(0%,0%,0%);stroke-opacity:1;stroke-miterlimit:10;\" d=\"M 95.136719 442.242188 C 95.136719 447.765625 90.660156 452.242188 85.136719 452.242188 C 79.613281 452.242188 75.136719 447.765625 75.136719 442.242188 C 75.136719 436.71875 79.613281 432.242188 85.136719 432.242188 C 90.660156 432.242188 95.136719 436.71875 95.136719 442.242188 \"/>\n",
       "<path style=\"fill-rule:nonzero;fill:rgb(0%,100%,0%);fill-opacity:1;stroke-width:1;stroke-linecap:butt;stroke-linejoin:miter;stroke:rgb(0%,0%,0%);stroke-opacity:1;stroke-miterlimit:10;\" d=\"M 141.03125 188.195312 C 141.03125 193.71875 136.554688 198.195312 131.03125 198.195312 C 125.507812 198.195312 121.03125 193.71875 121.03125 188.195312 C 121.03125 182.671875 125.507812 178.195312 131.03125 178.195312 C 136.554688 178.195312 141.03125 182.671875 141.03125 188.195312 \"/>\n",
       "<path style=\"fill-rule:nonzero;fill:rgb(0%,100%,0%);fill-opacity:1;stroke-width:1;stroke-linecap:butt;stroke-linejoin:miter;stroke:rgb(0%,0%,0%);stroke-opacity:1;stroke-miterlimit:10;\" d=\"M 325.847656 260.933594 C 325.847656 266.453125 321.371094 270.933594 315.847656 270.933594 C 310.324219 270.933594 305.847656 266.453125 305.847656 260.933594 C 305.847656 255.410156 310.324219 250.933594 315.847656 250.933594 C 321.371094 250.933594 325.847656 255.410156 325.847656 260.933594 \"/>\n",
       "<path style=\"fill-rule:nonzero;fill:rgb(100%,0%,0%);fill-opacity:1;stroke-width:1;stroke-linecap:butt;stroke-linejoin:miter;stroke:rgb(0%,0%,0%);stroke-opacity:1;stroke-miterlimit:10;\" d=\"M 321.703125 56.386719 C 321.703125 61.910156 317.226562 66.386719 311.703125 66.386719 C 306.179688 66.386719 301.703125 61.910156 301.703125 56.386719 C 301.703125 50.863281 306.179688 46.386719 311.703125 46.386719 C 317.226562 46.386719 321.703125 50.863281 321.703125 56.386719 \"/>\n",
       "<path style=\"fill-rule:nonzero;fill:rgb(0%,100%,0%);fill-opacity:1;stroke-width:1;stroke-linecap:butt;stroke-linejoin:miter;stroke:rgb(0%,0%,0%);stroke-opacity:1;stroke-miterlimit:10;\" d=\"M 97.953125 394.347656 C 97.953125 399.871094 93.476562 404.347656 87.953125 404.347656 C 82.433594 404.347656 77.953125 399.871094 77.953125 394.347656 C 77.953125 388.824219 82.433594 384.347656 87.953125 384.347656 C 93.476562 384.347656 97.953125 388.824219 97.953125 394.347656 \"/>\n",
       "<path style=\"fill-rule:nonzero;fill:rgb(100%,0%,0%);fill-opacity:1;stroke-width:1;stroke-linecap:butt;stroke-linejoin:miter;stroke:rgb(0%,0%,0%);stroke-opacity:1;stroke-miterlimit:10;\" d=\"M 30 339.496094 C 30 345.019531 25.523438 349.496094 20 349.496094 C 14.476562 349.496094 10 345.019531 10 339.496094 C 10 333.976562 14.476562 329.496094 20 329.496094 C 25.523438 329.496094 30 333.976562 30 339.496094 \"/>\n",
       "<path style=\"fill-rule:nonzero;fill:rgb(100%,0%,0%);fill-opacity:1;stroke-width:1;stroke-linecap:butt;stroke-linejoin:miter;stroke:rgb(0%,0%,0%);stroke-opacity:1;stroke-miterlimit:10;\" d=\"M 40.460938 278.273438 C 40.460938 283.796875 35.984375 288.273438 30.460938 288.273438 C 24.9375 288.273438 20.460938 283.796875 20.460938 278.273438 C 20.460938 272.75 24.9375 268.273438 30.460938 268.273438 C 35.984375 268.273438 40.460938 272.75 40.460938 278.273438 \"/>\n",
       "<path style=\"fill-rule:nonzero;fill:rgb(100%,0%,0%);fill-opacity:1;stroke-width:1;stroke-linecap:butt;stroke-linejoin:miter;stroke:rgb(0%,0%,0%);stroke-opacity:1;stroke-miterlimit:10;\" d=\"M 260.226562 161.777344 C 260.226562 167.296875 255.75 171.777344 250.226562 171.777344 C 244.703125 171.777344 240.226562 167.296875 240.226562 161.777344 C 240.226562 156.253906 244.703125 151.777344 250.226562 151.777344 C 255.75 151.777344 260.226562 156.253906 260.226562 161.777344 \"/>\n",
       "<path style=\"fill-rule:nonzero;fill:rgb(0%,100%,0%);fill-opacity:1;stroke-width:1;stroke-linecap:butt;stroke-linejoin:miter;stroke:rgb(0%,0%,0%);stroke-opacity:1;stroke-miterlimit:10;\" d=\"M 505.488281 61.316406 C 505.488281 66.835938 501.011719 71.316406 495.488281 71.316406 C 489.96875 71.316406 485.488281 66.835938 485.488281 61.316406 C 485.488281 55.792969 489.96875 51.316406 495.488281 51.316406 C 501.011719 51.316406 505.488281 55.792969 505.488281 61.316406 \"/>\n",
       "<path style=\"fill-rule:nonzero;fill:rgb(0%,100%,0%);fill-opacity:1;stroke-width:1;stroke-linecap:butt;stroke-linejoin:miter;stroke:rgb(0%,0%,0%);stroke-opacity:1;stroke-miterlimit:10;\" d=\"M 417.152344 20 C 417.152344 25.523438 412.675781 30 407.152344 30 C 401.628906 30 397.152344 25.523438 397.152344 20 C 397.152344 14.476562 401.628906 10 407.152344 10 C 412.675781 10 417.152344 14.476562 417.152344 20 \"/>\n",
       "<path style=\"fill-rule:nonzero;fill:rgb(0%,100%,0%);fill-opacity:1;stroke-width:1;stroke-linecap:butt;stroke-linejoin:miter;stroke:rgb(0%,0%,0%);stroke-opacity:1;stroke-miterlimit:10;\" d=\"M 62.019531 580 C 62.019531 585.523438 57.542969 590 52.019531 590 C 46.496094 590 42.019531 585.523438 42.019531 580 C 42.019531 574.476562 46.496094 570 52.019531 570 C 57.542969 570 62.019531 574.476562 62.019531 580 \"/>\n",
       "<path style=\"fill-rule:nonzero;fill:rgb(100%,0%,0%);fill-opacity:1;stroke-width:1;stroke-linecap:butt;stroke-linejoin:miter;stroke:rgb(0%,0%,0%);stroke-opacity:1;stroke-miterlimit:10;\" d=\"M 49.84375 204.761719 C 49.84375 210.285156 45.367188 214.761719 39.84375 214.761719 C 34.320312 214.761719 29.84375 210.285156 29.84375 204.761719 C 29.84375 199.238281 34.320312 194.761719 39.84375 194.761719 C 45.367188 194.761719 49.84375 199.238281 49.84375 204.761719 \"/>\n",
       "<path style=\"fill-rule:nonzero;fill:rgb(100%,0%,0%);fill-opacity:1;stroke-width:1;stroke-linecap:butt;stroke-linejoin:miter;stroke:rgb(0%,0%,0%);stroke-opacity:1;stroke-miterlimit:10;\" d=\"M 462.839844 34.355469 C 462.839844 39.878906 458.363281 44.355469 452.839844 44.355469 C 447.316406 44.355469 442.839844 39.878906 442.839844 34.355469 C 442.839844 28.832031 447.316406 24.355469 452.839844 24.355469 C 458.363281 24.355469 462.839844 28.832031 462.839844 34.355469 \"/>\n",
       "<path style=\"fill-rule:nonzero;fill:rgb(100%,0%,0%);fill-opacity:1;stroke-width:1;stroke-linecap:butt;stroke-linejoin:miter;stroke:rgb(0%,0%,0%);stroke-opacity:1;stroke-miterlimit:10;\" d=\"M 279.597656 198.636719 C 279.597656 204.160156 275.117188 208.636719 269.597656 208.636719 C 264.074219 208.636719 259.597656 204.160156 259.597656 198.636719 C 259.597656 193.113281 264.074219 188.636719 269.597656 188.636719 C 275.117188 188.636719 279.597656 193.113281 279.597656 198.636719 \"/>\n",
       "<path style=\"fill-rule:nonzero;fill:rgb(100%,0%,0%);fill-opacity:1;stroke-width:1;stroke-linecap:butt;stroke-linejoin:miter;stroke:rgb(0%,0%,0%);stroke-opacity:1;stroke-miterlimit:10;\" d=\"M 561.039062 254.710938 C 561.039062 260.234375 556.5625 264.710938 551.039062 264.710938 C 545.515625 264.710938 541.039062 260.234375 541.039062 254.710938 C 541.039062 249.1875 545.515625 244.710938 551.039062 244.710938 C 556.5625 244.710938 561.039062 249.1875 561.039062 254.710938 \"/>\n",
       "<path style=\"fill-rule:nonzero;fill:rgb(100%,0%,0%);fill-opacity:1;stroke-width:1;stroke-linecap:butt;stroke-linejoin:miter;stroke:rgb(0%,0%,0%);stroke-opacity:1;stroke-miterlimit:10;\" d=\"M 66.484375 147.328125 C 66.484375 152.851562 62.007812 157.328125 56.484375 157.328125 C 50.964844 157.328125 46.484375 152.851562 46.484375 147.328125 C 46.484375 141.804688 50.964844 137.328125 56.484375 137.328125 C 62.007812 137.328125 66.484375 141.804688 66.484375 147.328125 \"/>\n",
       "<path style=\"fill-rule:nonzero;fill:rgb(100%,0%,0%);fill-opacity:1;stroke-width:1;stroke-linecap:butt;stroke-linejoin:miter;stroke:rgb(0%,0%,0%);stroke-opacity:1;stroke-miterlimit:10;\" d=\"M 534.035156 110.171875 C 534.035156 115.695312 529.554688 120.171875 524.035156 120.171875 C 518.511719 120.171875 514.035156 115.695312 514.035156 110.171875 C 514.035156 104.648438 518.511719 100.171875 524.035156 100.171875 C 529.554688 100.171875 534.035156 104.648438 534.035156 110.171875 \"/>\n",
       "<path style=\"fill-rule:nonzero;fill:rgb(100%,0%,0%);fill-opacity:1;stroke-width:1;stroke-linecap:butt;stroke-linejoin:miter;stroke:rgb(0%,0%,0%);stroke-opacity:1;stroke-miterlimit:10;\" d=\"M 520.574219 313.871094 C 520.574219 319.394531 516.097656 323.871094 510.574219 323.871094 C 505.050781 323.871094 500.574219 319.394531 500.574219 313.871094 C 500.574219 308.351562 505.050781 303.871094 510.574219 303.871094 C 516.097656 303.871094 520.574219 308.351562 520.574219 313.871094 \"/>\n",
       "<path style=\"fill-rule:nonzero;fill:rgb(0%,100%,0%);fill-opacity:1;stroke-width:1;stroke-linecap:butt;stroke-linejoin:miter;stroke:rgb(0%,0%,0%);stroke-opacity:1;stroke-miterlimit:10;\" d=\"M 390.792969 479.996094 C 390.792969 485.519531 386.316406 489.996094 380.792969 489.996094 C 375.269531 489.996094 370.792969 485.519531 370.792969 479.996094 C 370.792969 474.472656 375.269531 469.996094 380.792969 469.996094 C 386.316406 469.996094 390.792969 474.472656 390.792969 479.996094 \"/>\n",
       "<path style=\"fill-rule:nonzero;fill:rgb(0%,100%,0%);fill-opacity:1;stroke-width:1;stroke-linecap:butt;stroke-linejoin:miter;stroke:rgb(0%,0%,0%);stroke-opacity:1;stroke-miterlimit:10;\" d=\"M 471.136719 451.175781 C 471.136719 456.699219 466.660156 461.175781 461.136719 461.175781 C 455.613281 461.175781 451.136719 456.699219 451.136719 451.175781 C 451.136719 445.652344 455.613281 441.175781 461.136719 441.175781 C 466.660156 441.175781 471.136719 445.652344 471.136719 451.175781 \"/>\n",
       "<path style=\"fill-rule:nonzero;fill:rgb(0%,100%,0%);fill-opacity:1;stroke-width:1;stroke-linecap:butt;stroke-linejoin:miter;stroke:rgb(0%,0%,0%);stroke-opacity:1;stroke-miterlimit:10;\" d=\"M 590 134.898438 C 590 140.421875 585.523438 144.898438 580 144.898438 C 574.476562 144.898438 570 140.421875 570 134.898438 C 570 129.375 574.476562 124.898438 580 124.898438 C 585.523438 124.898438 590 129.375 590 134.898438 \"/>\n",
       "<path style=\"fill-rule:nonzero;fill:rgb(0%,100%,0%);fill-opacity:1;stroke-width:1;stroke-linecap:butt;stroke-linejoin:miter;stroke:rgb(0%,0%,0%);stroke-opacity:1;stroke-miterlimit:10;\" d=\"M 415.238281 335.738281 C 415.238281 341.261719 410.761719 345.738281 405.238281 345.738281 C 399.71875 345.738281 395.238281 341.261719 395.238281 335.738281 C 395.238281 330.214844 399.71875 325.738281 405.238281 325.738281 C 410.761719 325.738281 415.238281 330.214844 415.238281 335.738281 \"/>\n",
       "<path style=\"fill-rule:nonzero;fill:rgb(0%,100%,0%);fill-opacity:1;stroke-width:1;stroke-linecap:butt;stroke-linejoin:miter;stroke:rgb(0%,0%,0%);stroke-opacity:1;stroke-miterlimit:10;\" d=\"M 411.714844 281.644531 C 411.714844 287.167969 407.238281 291.644531 401.714844 291.644531 C 396.191406 291.644531 391.714844 287.167969 391.714844 281.644531 C 391.714844 276.121094 396.191406 271.644531 401.714844 271.644531 C 407.238281 271.644531 411.714844 276.121094 411.714844 281.644531 \"/>\n",
       "<path style=\"fill-rule:nonzero;fill:rgb(100%,0%,0%);fill-opacity:1;stroke-width:1;stroke-linecap:butt;stroke-linejoin:miter;stroke:rgb(0%,0%,0%);stroke-opacity:1;stroke-miterlimit:10;\" d=\"M 556.316406 212.804688 C 556.316406 218.324219 551.839844 222.804688 546.316406 222.804688 C 540.792969 222.804688 536.316406 218.324219 536.316406 212.804688 C 536.316406 207.28125 540.792969 202.804688 546.316406 202.804688 C 551.839844 202.804688 556.316406 207.28125 556.316406 212.804688 \"/>\n",
       "<path style=\"fill-rule:nonzero;fill:rgb(0%,100%,0%);fill-opacity:1;stroke-width:1;stroke-linecap:butt;stroke-linejoin:miter;stroke:rgb(0%,0%,0%);stroke-opacity:1;stroke-miterlimit:10;\" d=\"M 323.378906 107.480469 C 323.378906 113 318.902344 117.480469 313.378906 117.480469 C 307.855469 117.480469 303.378906 113 303.378906 107.480469 C 303.378906 101.957031 307.855469 97.480469 313.378906 97.480469 C 318.902344 97.480469 323.378906 101.957031 323.378906 107.480469 \"/>\n",
       "<path style=\"fill-rule:nonzero;fill:rgb(100%,0%,0%);fill-opacity:1;stroke-width:1;stroke-linecap:butt;stroke-linejoin:miter;stroke:rgb(0%,0%,0%);stroke-opacity:1;stroke-miterlimit:10;\" d=\"M 342.90625 339.753906 C 342.90625 345.273438 338.425781 349.753906 332.90625 349.753906 C 327.382812 349.753906 322.90625 345.273438 322.90625 339.753906 C 322.90625 334.230469 327.382812 329.753906 332.90625 329.753906 C 338.425781 329.753906 342.90625 334.230469 342.90625 339.753906 \"/>\n",
       "<path style=\"fill-rule:nonzero;fill:rgb(100%,0%,0%);fill-opacity:1;stroke-width:1;stroke-linecap:butt;stroke-linejoin:miter;stroke:rgb(0%,0%,0%);stroke-opacity:1;stroke-miterlimit:10;\" d=\"M 438.628906 196.828125 C 438.628906 202.347656 434.148438 206.828125 428.628906 206.828125 C 423.105469 206.828125 418.628906 202.347656 418.628906 196.828125 C 418.628906 191.304688 423.105469 186.828125 428.628906 186.828125 C 434.148438 186.828125 438.628906 191.304688 438.628906 196.828125 \"/>\n",
       "<path style=\"fill-rule:nonzero;fill:rgb(100%,0%,0%);fill-opacity:1;stroke-width:1;stroke-linecap:butt;stroke-linejoin:miter;stroke:rgb(0%,0%,0%);stroke-opacity:1;stroke-miterlimit:10;\" d=\"M 421.316406 171.5 C 421.316406 177.023438 416.839844 181.5 411.316406 181.5 C 405.792969 181.5 401.316406 177.023438 401.316406 171.5 C 401.316406 165.980469 405.792969 161.5 411.316406 161.5 C 416.839844 161.5 421.316406 165.980469 421.316406 171.5 \"/>\n",
       "</g>\n",
       "</svg>\n"
      ],
      "text/plain": [
       "<igraph.drawing.Plot at 0x114e4cf98>"
      ]
     },
     "execution_count": 110,
     "metadata": {},
     "output_type": "execute_result"
    }
   ],
   "source": [
    "igraph.plot(p)"
   ]
  },
  {
   "cell_type": "markdown",
   "metadata": {},
   "source": [
    "## Walktrap"
   ]
  },
  {
   "cell_type": "code",
   "execution_count": null,
   "metadata": {
    "collapsed": true
   },
   "outputs": [],
   "source": [
    "dendrogram = largest.community_walktrap()\n",
    "dendrogram.optimal_count"
   ]
  },
  {
   "cell_type": "code",
   "execution_count": null,
   "metadata": {
    "collapsed": true
   },
   "outputs": [],
   "source": [
    "tag_counts = df_t.Tag.value_counts()\n",
    "tag_counts[:100].plot()\n",
    "plt.show()"
   ]
  },
  {
   "cell_type": "code",
   "execution_count": null,
   "metadata": {
    "collapsed": true
   },
   "outputs": [],
   "source": [
    "clusters = dendrogram.as_clustering()\n",
    "membership = clusters.membership\n",
    "largest.vs['membership'] = membership"
   ]
  },
  {
   "cell_type": "code",
   "execution_count": null,
   "metadata": {
    "collapsed": true
   },
   "outputs": [],
   "source": [
    "def get_n_tag_counts_for_membership(m, n):\n",
    "    q_ids = set([graph.vs[i]['name'] for i in range(len(largest.vs)) if membership[i] == m])\n",
    "    q_tags = df_t.Tag[df_t.Id.isin(df_q.Id[df_q.qid.isin(q_ids)])]\n",
    "    return len(q_ids), q_tags.value_counts()[:n]"
   ]
  },
  {
   "cell_type": "code",
   "execution_count": null,
   "metadata": {
    "collapsed": true
   },
   "outputs": [],
   "source": [
    "for m in list(set(membership)):\n",
    "    num, counts = get_n_tag_counts_for_membership(m, 5)\n",
    "    print(m, \":\", num)\n",
    "    print(counts)"
   ]
  },
  {
   "cell_type": "code",
   "execution_count": null,
   "metadata": {
    "collapsed": true
   },
   "outputs": [],
   "source": [
    "def show_n_questions_for_membership(m, n):\n",
    "    q_ids = set([graph.vs[i]['name'] for i in range(len(largest.vs)) if membership[i] == m])\n",
    "    q_titles = df_q.Title.values[df_q.qid.isin(q_ids)]\n",
    "    return q_titles[:n]"
   ]
  },
  {
   "cell_type": "code",
   "execution_count": null,
   "metadata": {
    "collapsed": true
   },
   "outputs": [],
   "source": [
    "show_n_questions_for_membership(2, 10)"
   ]
  },
  {
   "cell_type": "code",
   "execution_count": null,
   "metadata": {
    "collapsed": true
   },
   "outputs": [],
   "source": [
    "def plot_memberships(ms):\n",
    "    palette = igraph.drawing.colors.ClusterColoringPalette(len(clusters))\n",
    "    colors = palette.get_many(membership)\n",
    "    largest.vs['color'] = colors\n",
    "    layout = largest.layout_drl()\n",
    "    p = igraph.drawing.Plot(background='white')\n",
    "    for m in ms:\n",
    "        p.add(clusters.subgraph(m), opacity=0.6, layout=layout)\n",
    "    return p"
   ]
  },
  {
   "cell_type": "code",
   "execution_count": null,
   "metadata": {
    "collapsed": true
   },
   "outputs": [],
   "source": [
    "plot = plot_memberships([0,1])\n",
    "plot.show()"
   ]
  },
  {
   "cell_type": "code",
   "execution_count": null,
   "metadata": {
    "collapsed": true,
    "scrolled": true
   },
   "outputs": [],
   "source": [
    "palette = igraph.drawing.colors.ClusterColoringPalette(len(clusters))\n",
    "colors = palette.get_many(membership)\n",
    "\n",
    "# set user colors (r, b, g, a)\n",
    "# for i in range(len(users)):\n",
    "#     colors[i] = (1.0, 1.0, 1.0, 1.0)\n",
    "# for i in range(len(questions)):\n",
    "#     colors[offset+i] = (1.0, 0.0, 0.0, 1.0)\n",
    "largest.vs['color'] = colors\n",
    "igraph.plot(largest, opacity=0.5)"
   ]
  },
  {
   "cell_type": "code",
   "execution_count": null,
   "metadata": {
    "collapsed": true
   },
   "outputs": [],
   "source": []
  }
 ],
 "metadata": {
  "kernelspec": {
   "display_name": "Python [conda root]",
   "language": "python",
   "name": "conda-root-py"
  },
  "language_info": {
   "codemirror_mode": {
    "name": "ipython",
    "version": 3
   },
   "file_extension": ".py",
   "mimetype": "text/x-python",
   "name": "python",
   "nbconvert_exporter": "python",
   "pygments_lexer": "ipython3",
   "version": "3.6.1"
  }
 },
 "nbformat": 4,
 "nbformat_minor": 2
}
