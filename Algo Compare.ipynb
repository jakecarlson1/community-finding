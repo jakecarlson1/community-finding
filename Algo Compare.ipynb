{
 "cells": [
  {
   "cell_type": "markdown",
   "metadata": {},
   "source": [
    "# Community Finding - Algorithm Comparision\n",
    "## Jake Carlson\n",
    "\n",
    "## Load Data"
   ]
  },
  {
   "cell_type": "code",
   "execution_count": 87,
   "metadata": {
    "collapsed": true
   },
   "outputs": [],
   "source": [
    "import numpy as np\n",
    "import pandas as pd\n",
    "import igraph\n",
    "import uuid\n",
    "import matplotlib.pyplot as plt"
   ]
  },
  {
   "cell_type": "code",
   "execution_count": 70,
   "metadata": {
    "collapsed": true
   },
   "outputs": [],
   "source": [
    "df_q = pd.read_csv(\"./data/2008-questions.csv\")\n",
    "df_a = pd.read_csv(\"./data/2008-answers.csv\")\n",
    "df_t = pd.read_csv(\"./data/2008-tags.csv\")\n",
    "\n",
    "# remove NaN owner ids\n",
    "df_q = df_q[np.isfinite(df_q.OwnerUserId.values)]\n",
    "df_a = df_a[np.isfinite(df_a.OwnerUserId.values) & df_a.ParentId.isin(df_q.Id)]\n",
    "\n",
    "df_q.OwnerUserId = df_q.OwnerUserId.astype(np.int)\n",
    "df_a.OwnerUserId = df_a.OwnerUserId.astype(np.int)\n",
    "\n",
    "df_q['qid'] = [str(uuid.uuid4()) for _ in range(len(df_q))]\n",
    "df_a['qid'] = [df_q['qid'].values[df_q.Id == a][0] for a in df_a.ParentId.values]"
   ]
  },
  {
   "cell_type": "code",
   "execution_count": 71,
   "metadata": {
    "collapsed": true
   },
   "outputs": [],
   "source": [
    "owner_to_uid = {}\n",
    "def get_uids(df):\n",
    "    uids = []\n",
    "    for i, r in df.iterrows():\n",
    "        owner = r['OwnerUserId']\n",
    "        uid = None\n",
    "        if owner in owner_to_uid.keys():\n",
    "            uid = owner_to_uid[owner]\n",
    "        else:\n",
    "            uid = str(uuid.uuid4())\n",
    "            owner_to_uid[owner] = uid\n",
    "        uids.append(uid)\n",
    "    return uids\n",
    "\n",
    "df_q['uid'] = get_uids(df_q)\n",
    "df_a['uid'] = get_uids(df_a)"
   ]
  },
  {
   "cell_type": "code",
   "execution_count": 72,
   "metadata": {},
   "outputs": [
    {
     "data": {
      "text/html": [
       "<div>\n",
       "<style>\n",
       "    .dataframe thead tr:only-child th {\n",
       "        text-align: right;\n",
       "    }\n",
       "\n",
       "    .dataframe thead th {\n",
       "        text-align: left;\n",
       "    }\n",
       "\n",
       "    .dataframe tbody tr th {\n",
       "        vertical-align: top;\n",
       "    }\n",
       "</style>\n",
       "<table border=\"1\" class=\"dataframe\">\n",
       "  <thead>\n",
       "    <tr style=\"text-align: right;\">\n",
       "      <th></th>\n",
       "      <th>Id</th>\n",
       "      <th>OwnerUserId</th>\n",
       "      <th>CreationDate</th>\n",
       "      <th>Score</th>\n",
       "      <th>Title</th>\n",
       "      <th>qid</th>\n",
       "      <th>uid</th>\n",
       "    </tr>\n",
       "  </thead>\n",
       "  <tbody>\n",
       "    <tr>\n",
       "      <th>0</th>\n",
       "      <td>80</td>\n",
       "      <td>26</td>\n",
       "      <td>2008-08-01T13:57:07Z</td>\n",
       "      <td>26</td>\n",
       "      <td>SQLStatement.execute() - multiple queries in o...</td>\n",
       "      <td>5ef5de3d-5329-483c-ae6d-a25f8761d9ba</td>\n",
       "      <td>b424ee67-f316-4771-8fc6-ef78e2c2fe44</td>\n",
       "    </tr>\n",
       "    <tr>\n",
       "      <th>1</th>\n",
       "      <td>90</td>\n",
       "      <td>58</td>\n",
       "      <td>2008-08-01T14:41:24Z</td>\n",
       "      <td>144</td>\n",
       "      <td>Good branching and merging tutorials for Torto...</td>\n",
       "      <td>f990b00f-94c2-4928-9347-112cd020d1f5</td>\n",
       "      <td>7649c6ea-a965-424a-bccb-2879df0bd6bd</td>\n",
       "    </tr>\n",
       "    <tr>\n",
       "      <th>2</th>\n",
       "      <td>120</td>\n",
       "      <td>83</td>\n",
       "      <td>2008-08-01T15:50:08Z</td>\n",
       "      <td>21</td>\n",
       "      <td>ASP.NET Site Maps</td>\n",
       "      <td>03334b31-8f56-4fc1-ac95-22d486abe1f6</td>\n",
       "      <td>db6078d0-7be4-4317-8fdd-c45b90219ea1</td>\n",
       "    </tr>\n",
       "    <tr>\n",
       "      <th>3</th>\n",
       "      <td>180</td>\n",
       "      <td>2089740</td>\n",
       "      <td>2008-08-01T18:42:19Z</td>\n",
       "      <td>53</td>\n",
       "      <td>Function for creating color wheels</td>\n",
       "      <td>8082f437-a9be-4fd1-ad7b-eb9883e39ae5</td>\n",
       "      <td>dde44f8f-b693-4048-9e06-993cce7bd17d</td>\n",
       "    </tr>\n",
       "    <tr>\n",
       "      <th>4</th>\n",
       "      <td>260</td>\n",
       "      <td>91</td>\n",
       "      <td>2008-08-01T23:22:08Z</td>\n",
       "      <td>49</td>\n",
       "      <td>Adding scripting functionality to .NET applica...</td>\n",
       "      <td>de6df771-68bf-4f06-9b57-a8d93fd2be23</td>\n",
       "      <td>5b5d50ed-700a-4154-ad00-591f65822f95</td>\n",
       "    </tr>\n",
       "  </tbody>\n",
       "</table>\n",
       "</div>"
      ],
      "text/plain": [
       "    Id  OwnerUserId          CreationDate  Score  \\\n",
       "0   80           26  2008-08-01T13:57:07Z     26   \n",
       "1   90           58  2008-08-01T14:41:24Z    144   \n",
       "2  120           83  2008-08-01T15:50:08Z     21   \n",
       "3  180      2089740  2008-08-01T18:42:19Z     53   \n",
       "4  260           91  2008-08-01T23:22:08Z     49   \n",
       "\n",
       "                                               Title  \\\n",
       "0  SQLStatement.execute() - multiple queries in o...   \n",
       "1  Good branching and merging tutorials for Torto...   \n",
       "2                                  ASP.NET Site Maps   \n",
       "3                 Function for creating color wheels   \n",
       "4  Adding scripting functionality to .NET applica...   \n",
       "\n",
       "                                    qid                                   uid  \n",
       "0  5ef5de3d-5329-483c-ae6d-a25f8761d9ba  b424ee67-f316-4771-8fc6-ef78e2c2fe44  \n",
       "1  f990b00f-94c2-4928-9347-112cd020d1f5  7649c6ea-a965-424a-bccb-2879df0bd6bd  \n",
       "2  03334b31-8f56-4fc1-ac95-22d486abe1f6  db6078d0-7be4-4317-8fdd-c45b90219ea1  \n",
       "3  8082f437-a9be-4fd1-ad7b-eb9883e39ae5  dde44f8f-b693-4048-9e06-993cce7bd17d  \n",
       "4  de6df771-68bf-4f06-9b57-a8d93fd2be23  5b5d50ed-700a-4154-ad00-591f65822f95  "
      ]
     },
     "execution_count": 72,
     "metadata": {},
     "output_type": "execute_result"
    }
   ],
   "source": [
    "df_q.head()"
   ]
  },
  {
   "cell_type": "code",
   "execution_count": 73,
   "metadata": {},
   "outputs": [
    {
     "data": {
      "text/html": [
       "<div>\n",
       "<style>\n",
       "    .dataframe thead tr:only-child th {\n",
       "        text-align: right;\n",
       "    }\n",
       "\n",
       "    .dataframe thead th {\n",
       "        text-align: left;\n",
       "    }\n",
       "\n",
       "    .dataframe tbody tr th {\n",
       "        vertical-align: top;\n",
       "    }\n",
       "</style>\n",
       "<table border=\"1\" class=\"dataframe\">\n",
       "  <thead>\n",
       "    <tr style=\"text-align: right;\">\n",
       "      <th></th>\n",
       "      <th>Id</th>\n",
       "      <th>OwnerUserId</th>\n",
       "      <th>CreationDate</th>\n",
       "      <th>ParentId</th>\n",
       "      <th>Score</th>\n",
       "      <th>qid</th>\n",
       "      <th>uid</th>\n",
       "    </tr>\n",
       "  </thead>\n",
       "  <tbody>\n",
       "    <tr>\n",
       "      <th>0</th>\n",
       "      <td>92</td>\n",
       "      <td>61</td>\n",
       "      <td>2008-08-01T14:45:37Z</td>\n",
       "      <td>90</td>\n",
       "      <td>13</td>\n",
       "      <td>f990b00f-94c2-4928-9347-112cd020d1f5</td>\n",
       "      <td>2dd78e9b-684b-4490-95fe-8eebf56dd6ff</td>\n",
       "    </tr>\n",
       "    <tr>\n",
       "      <th>1</th>\n",
       "      <td>124</td>\n",
       "      <td>26</td>\n",
       "      <td>2008-08-01T16:09:47Z</td>\n",
       "      <td>80</td>\n",
       "      <td>12</td>\n",
       "      <td>5ef5de3d-5329-483c-ae6d-a25f8761d9ba</td>\n",
       "      <td>b424ee67-f316-4771-8fc6-ef78e2c2fe44</td>\n",
       "    </tr>\n",
       "    <tr>\n",
       "      <th>2</th>\n",
       "      <td>199</td>\n",
       "      <td>50</td>\n",
       "      <td>2008-08-01T19:36:46Z</td>\n",
       "      <td>180</td>\n",
       "      <td>1</td>\n",
       "      <td>8082f437-a9be-4fd1-ad7b-eb9883e39ae5</td>\n",
       "      <td>5514769b-3b49-4e02-9067-36148116f1ed</td>\n",
       "    </tr>\n",
       "    <tr>\n",
       "      <th>3</th>\n",
       "      <td>269</td>\n",
       "      <td>91</td>\n",
       "      <td>2008-08-01T23:49:57Z</td>\n",
       "      <td>260</td>\n",
       "      <td>4</td>\n",
       "      <td>de6df771-68bf-4f06-9b57-a8d93fd2be23</td>\n",
       "      <td>5b5d50ed-700a-4154-ad00-591f65822f95</td>\n",
       "    </tr>\n",
       "    <tr>\n",
       "      <th>4</th>\n",
       "      <td>307</td>\n",
       "      <td>49</td>\n",
       "      <td>2008-08-02T01:49:46Z</td>\n",
       "      <td>260</td>\n",
       "      <td>28</td>\n",
       "      <td>de6df771-68bf-4f06-9b57-a8d93fd2be23</td>\n",
       "      <td>bc0e0074-98ba-4154-a02c-5203c5295f0d</td>\n",
       "    </tr>\n",
       "  </tbody>\n",
       "</table>\n",
       "</div>"
      ],
      "text/plain": [
       "    Id  OwnerUserId          CreationDate  ParentId  Score  \\\n",
       "0   92           61  2008-08-01T14:45:37Z        90     13   \n",
       "1  124           26  2008-08-01T16:09:47Z        80     12   \n",
       "2  199           50  2008-08-01T19:36:46Z       180      1   \n",
       "3  269           91  2008-08-01T23:49:57Z       260      4   \n",
       "4  307           49  2008-08-02T01:49:46Z       260     28   \n",
       "\n",
       "                                    qid                                   uid  \n",
       "0  f990b00f-94c2-4928-9347-112cd020d1f5  2dd78e9b-684b-4490-95fe-8eebf56dd6ff  \n",
       "1  5ef5de3d-5329-483c-ae6d-a25f8761d9ba  b424ee67-f316-4771-8fc6-ef78e2c2fe44  \n",
       "2  8082f437-a9be-4fd1-ad7b-eb9883e39ae5  5514769b-3b49-4e02-9067-36148116f1ed  \n",
       "3  de6df771-68bf-4f06-9b57-a8d93fd2be23  5b5d50ed-700a-4154-ad00-591f65822f95  \n",
       "4  de6df771-68bf-4f06-9b57-a8d93fd2be23  bc0e0074-98ba-4154-a02c-5203c5295f0d  "
      ]
     },
     "execution_count": 73,
     "metadata": {},
     "output_type": "execute_result"
    }
   ],
   "source": [
    "df_a.head()"
   ]
  },
  {
   "cell_type": "code",
   "execution_count": 74,
   "metadata": {},
   "outputs": [
    {
     "data": {
      "text/html": [
       "<div>\n",
       "<style>\n",
       "    .dataframe thead tr:only-child th {\n",
       "        text-align: right;\n",
       "    }\n",
       "\n",
       "    .dataframe thead th {\n",
       "        text-align: left;\n",
       "    }\n",
       "\n",
       "    .dataframe tbody tr th {\n",
       "        vertical-align: top;\n",
       "    }\n",
       "</style>\n",
       "<table border=\"1\" class=\"dataframe\">\n",
       "  <thead>\n",
       "    <tr style=\"text-align: right;\">\n",
       "      <th></th>\n",
       "      <th>Id</th>\n",
       "      <th>Tag</th>\n",
       "    </tr>\n",
       "  </thead>\n",
       "  <tbody>\n",
       "    <tr>\n",
       "      <th>0</th>\n",
       "      <td>80</td>\n",
       "      <td>flex</td>\n",
       "    </tr>\n",
       "    <tr>\n",
       "      <th>1</th>\n",
       "      <td>80</td>\n",
       "      <td>actionscript-3</td>\n",
       "    </tr>\n",
       "    <tr>\n",
       "      <th>2</th>\n",
       "      <td>80</td>\n",
       "      <td>air</td>\n",
       "    </tr>\n",
       "    <tr>\n",
       "      <th>3</th>\n",
       "      <td>90</td>\n",
       "      <td>svn</td>\n",
       "    </tr>\n",
       "    <tr>\n",
       "      <th>4</th>\n",
       "      <td>90</td>\n",
       "      <td>tortoisesvn</td>\n",
       "    </tr>\n",
       "  </tbody>\n",
       "</table>\n",
       "</div>"
      ],
      "text/plain": [
       "   Id             Tag\n",
       "0  80            flex\n",
       "1  80  actionscript-3\n",
       "2  80             air\n",
       "3  90             svn\n",
       "4  90     tortoisesvn"
      ]
     },
     "execution_count": 74,
     "metadata": {},
     "output_type": "execute_result"
    }
   ],
   "source": [
    "df_t.head()"
   ]
  },
  {
   "cell_type": "code",
   "execution_count": 75,
   "metadata": {},
   "outputs": [
    {
     "name": "stdout",
     "output_type": "stream",
     "text": [
      "<class 'pandas.core.frame.DataFrame'>\n",
      "RangeIndex: 16912 entries, 0 to 16911\n",
      "Data columns (total 2 columns):\n",
      "Id     16912 non-null int64\n",
      "Tag    16912 non-null object\n",
      "dtypes: int64(1), object(1)\n",
      "memory usage: 264.3+ KB\n"
     ]
    }
   ],
   "source": [
    "df_t.info()"
   ]
  },
  {
   "cell_type": "code",
   "execution_count": 76,
   "metadata": {},
   "outputs": [
    {
     "name": "stdout",
     "output_type": "stream",
     "text": [
      "<class 'pandas.core.frame.DataFrame'>\n",
      "Int64Index: 5299 entries, 0 to 5824\n",
      "Data columns (total 7 columns):\n",
      "Id              5299 non-null int64\n",
      "OwnerUserId     5299 non-null int64\n",
      "CreationDate    5299 non-null object\n",
      "Score           5299 non-null int64\n",
      "Title           5299 non-null object\n",
      "qid             5299 non-null object\n",
      "uid             5299 non-null object\n",
      "dtypes: int64(3), object(4)\n",
      "memory usage: 331.2+ KB\n"
     ]
    }
   ],
   "source": [
    "df_q.info()"
   ]
  },
  {
   "cell_type": "markdown",
   "metadata": {},
   "source": [
    "## Questions Only"
   ]
  },
  {
   "cell_type": "code",
   "execution_count": 77,
   "metadata": {
    "collapsed": true
   },
   "outputs": [],
   "source": [
    "tags_to_questions = {}\n",
    "for g, data in df_t.groupby(['Tag']):\n",
    "    tags_to_questions[g] = set(df_q.qid[df_q.Id.isin(data.Id)].values)\n",
    "\n",
    "questions_to_questions = {}\n",
    "for t, quids in tags_to_questions.items():\n",
    "    for i, q in enumerate(quids):\n",
    "        if q in questions_to_questions.keys():\n",
    "            questions_to_questions[q].update(quids)\n",
    "        else:\n",
    "            questions_to_questions[q] = set(quids)\n",
    "        questions_to_questions[q].remove(q)\n",
    "\n",
    "questions = list(questions_to_questions.keys())\n",
    "questions_to_idx = {}\n",
    "for i, q in enumerate(questions):\n",
    "    questions_to_idx[q] = i"
   ]
  },
  {
   "cell_type": "code",
   "execution_count": 78,
   "metadata": {
    "collapsed": true
   },
   "outputs": [],
   "source": [
    "edges = []\n",
    "for k, v in questions_to_questions.items():\n",
    "    for q in v:\n",
    "        edges.append((questions_to_idx[k], questions_to_idx[q]))"
   ]
  },
  {
   "cell_type": "code",
   "execution_count": 79,
   "metadata": {
    "collapsed": true
   },
   "outputs": [],
   "source": [
    "graph = igraph.Graph(edges=edges, directed=False).simplify(multiple=True, loops=False)\n",
    "graph.vs['name'] = questions"
   ]
  },
  {
   "cell_type": "code",
   "execution_count": 80,
   "metadata": {
    "collapsed": true
   },
   "outputs": [],
   "source": [
    "def get_largest_component(g):\n",
    "    comps = g.components()\n",
    "    sizes = comps.sizes()\n",
    "    idx_largest = sizes.index(max(sizes))\n",
    "    return comps.subgraph(idx_largest)"
   ]
  },
  {
   "cell_type": "code",
   "execution_count": 81,
   "metadata": {
    "collapsed": true
   },
   "outputs": [],
   "source": [
    "largest = get_largest_component(graph)"
   ]
  },
  {
   "cell_type": "markdown",
   "metadata": {},
   "source": [
    "## Karate Club"
   ]
  },
  {
   "cell_type": "code",
   "execution_count": 105,
   "metadata": {},
   "outputs": [],
   "source": [
    "karate = igraph.Graph.Read_GML('./data/karate/karate.gml')\n",
    "largest = get_largest_component(karate)\n",
    "largest.vs['name'] = [str(uuid.uuid4()) for _ in range(len(largest.vs))]"
   ]
  },
  {
   "cell_type": "markdown",
   "metadata": {},
   "source": [
    "## Spectral Bisection"
   ]
  },
  {
   "cell_type": "code",
   "execution_count": 106,
   "metadata": {
    "collapsed": true
   },
   "outputs": [],
   "source": [
    "def get_smallest_component(g):\n",
    "    comps = g.components()\n",
    "    sizes = comps.sizes()\n",
    "    idx_largest = sizes.index(2)\n",
    "    return comps.subgraph(idx_largest)\n",
    "\n",
    "smallest = get_smallest_component(graph)"
   ]
  },
  {
   "cell_type": "code",
   "execution_count": 113,
   "metadata": {},
   "outputs": [],
   "source": [
    "import importlib\n",
    "import methods\n",
    "\n",
    "importlib.reload(methods)\n",
    "\n",
    "p = methods.spectral_bisection(largest)\n",
    "# methods.spectral_bisection(smallest)"
   ]
  },
  {
   "cell_type": "code",
   "execution_count": 118,
   "metadata": {},
   "outputs": [
    {
     "data": {
      "image/svg+xml": [
       "<?xml version=\"1.0\" encoding=\"UTF-8\"?>\n",
       "<svg xmlns=\"http://www.w3.org/2000/svg\" xmlns:xlink=\"http://www.w3.org/1999/xlink\" width=\"600pt\" height=\"600pt\" viewBox=\"0 0 600 600\" version=\"1.1\">\n",
       "<g id=\"surface75\">\n",
       "<rect x=\"0\" y=\"0\" width=\"600\" height=\"600\" style=\"fill:rgb(100%,100%,100%);fill-opacity:1;stroke:none;\"/>\n",
       "<path style=\"fill:none;stroke-width:1;stroke-linecap:butt;stroke-linejoin:miter;stroke:rgb(26.666667%,26.666667%,26.666667%);stroke-opacity:1;stroke-miterlimit:10;\" d=\"M 352.230469 223.207031 L 278.675781 153.398438 \"/>\n",
       "<path style=\"fill:none;stroke-width:1;stroke-linecap:butt;stroke-linejoin:miter;stroke:rgb(26.666667%,26.666667%,26.666667%);stroke-opacity:1;stroke-miterlimit:10;\" d=\"M 352.230469 223.207031 L 254.144531 270.714844 \"/>\n",
       "<path style=\"fill:none;stroke-width:1;stroke-linecap:butt;stroke-linejoin:miter;stroke:rgb(26.666667%,26.666667%,26.666667%);stroke-opacity:1;stroke-miterlimit:10;\" d=\"M 278.675781 153.398438 L 254.144531 270.714844 \"/>\n",
       "<path style=\"fill:none;stroke-width:1;stroke-linecap:butt;stroke-linejoin:miter;stroke:rgb(26.666667%,26.666667%,26.666667%);stroke-opacity:1;stroke-miterlimit:10;\" d=\"M 352.230469 223.207031 L 263.496094 94.03125 \"/>\n",
       "<path style=\"fill:none;stroke-width:1;stroke-linecap:butt;stroke-linejoin:miter;stroke:rgb(26.666667%,26.666667%,26.666667%);stroke-opacity:1;stroke-miterlimit:10;\" d=\"M 278.675781 153.398438 L 263.496094 94.03125 \"/>\n",
       "<path style=\"fill:none;stroke-width:1;stroke-linecap:butt;stroke-linejoin:miter;stroke:rgb(26.666667%,26.666667%,26.666667%);stroke-opacity:1;stroke-miterlimit:10;\" d=\"M 254.144531 270.714844 L 263.496094 94.03125 \"/>\n",
       "<path style=\"fill:none;stroke-width:1;stroke-linecap:butt;stroke-linejoin:miter;stroke:rgb(26.666667%,26.666667%,26.666667%);stroke-opacity:1;stroke-miterlimit:10;\" d=\"M 352.230469 223.207031 L 468.878906 176.125 \"/>\n",
       "<path style=\"fill:none;stroke-width:1;stroke-linecap:butt;stroke-linejoin:miter;stroke:rgb(26.666667%,26.666667%,26.666667%);stroke-opacity:1;stroke-miterlimit:10;\" d=\"M 352.230469 223.207031 L 454.214844 353.777344 \"/>\n",
       "<path style=\"fill:none;stroke-width:1;stroke-linecap:butt;stroke-linejoin:miter;stroke:rgb(26.666667%,26.666667%,26.666667%);stroke-opacity:1;stroke-miterlimit:10;\" d=\"M 352.230469 223.207031 L 483.882812 269.917969 \"/>\n",
       "<path style=\"fill:none;stroke-width:1;stroke-linecap:butt;stroke-linejoin:miter;stroke:rgb(26.666667%,26.666667%,26.666667%);stroke-opacity:1;stroke-miterlimit:10;\" d=\"M 468.878906 176.125 L 483.882812 269.917969 \"/>\n",
       "<path style=\"fill:none;stroke-width:1;stroke-linecap:butt;stroke-linejoin:miter;stroke:rgb(26.666667%,26.666667%,26.666667%);stroke-opacity:1;stroke-miterlimit:10;\" d=\"M 454.214844 353.777344 L 483.882812 269.917969 \"/>\n",
       "<path style=\"fill:none;stroke-width:1;stroke-linecap:butt;stroke-linejoin:miter;stroke:rgb(26.666667%,26.666667%,26.666667%);stroke-opacity:1;stroke-miterlimit:10;\" d=\"M 352.230469 223.207031 L 330.179688 153.597656 \"/>\n",
       "<path style=\"fill:none;stroke-width:1;stroke-linecap:butt;stroke-linejoin:miter;stroke:rgb(26.666667%,26.666667%,26.666667%);stroke-opacity:1;stroke-miterlimit:10;\" d=\"M 278.675781 153.398438 L 330.179688 153.597656 \"/>\n",
       "<path style=\"fill:none;stroke-width:1;stroke-linecap:butt;stroke-linejoin:miter;stroke:rgb(26.666667%,26.666667%,26.666667%);stroke-opacity:1;stroke-miterlimit:10;\" d=\"M 254.144531 270.714844 L 330.179688 153.597656 \"/>\n",
       "<path style=\"fill:none;stroke-width:1;stroke-linecap:butt;stroke-linejoin:miter;stroke:rgb(26.666667%,26.666667%,26.666667%);stroke-opacity:1;stroke-miterlimit:10;\" d=\"M 263.496094 94.03125 L 330.179688 153.597656 \"/>\n",
       "<path style=\"fill:none;stroke-width:1;stroke-linecap:butt;stroke-linejoin:miter;stroke:rgb(26.666667%,26.666667%,26.666667%);stroke-opacity:1;stroke-miterlimit:10;\" d=\"M 352.230469 223.207031 L 212.871094 260.417969 \"/>\n",
       "<path style=\"fill:none;stroke-width:1;stroke-linecap:butt;stroke-linejoin:miter;stroke:rgb(26.666667%,26.666667%,26.666667%);stroke-opacity:1;stroke-miterlimit:10;\" d=\"M 254.144531 270.714844 L 212.871094 260.417969 \"/>\n",
       "<path style=\"fill:none;stroke-width:1;stroke-linecap:butt;stroke-linejoin:miter;stroke:rgb(26.666667%,26.666667%,26.666667%);stroke-opacity:1;stroke-miterlimit:10;\" d=\"M 254.144531 270.714844 L 117.28125 198.195312 \"/>\n",
       "<path style=\"fill:none;stroke-width:1;stroke-linecap:butt;stroke-linejoin:miter;stroke:rgb(26.666667%,26.666667%,26.666667%);stroke-opacity:1;stroke-miterlimit:10;\" d=\"M 352.230469 223.207031 L 443.921875 269.316406 \"/>\n",
       "<path style=\"fill:none;stroke-width:1;stroke-linecap:butt;stroke-linejoin:miter;stroke:rgb(26.666667%,26.666667%,26.666667%);stroke-opacity:1;stroke-miterlimit:10;\" d=\"M 468.878906 176.125 L 443.921875 269.316406 \"/>\n",
       "<path style=\"fill:none;stroke-width:1;stroke-linecap:butt;stroke-linejoin:miter;stroke:rgb(26.666667%,26.666667%,26.666667%);stroke-opacity:1;stroke-miterlimit:10;\" d=\"M 454.214844 353.777344 L 443.921875 269.316406 \"/>\n",
       "<path style=\"fill:none;stroke-width:1;stroke-linecap:butt;stroke-linejoin:miter;stroke:rgb(26.666667%,26.666667%,26.666667%);stroke-opacity:1;stroke-miterlimit:10;\" d=\"M 352.230469 223.207031 L 451.292969 102.140625 \"/>\n",
       "<path style=\"fill:none;stroke-width:1;stroke-linecap:butt;stroke-linejoin:miter;stroke:rgb(26.666667%,26.666667%,26.666667%);stroke-opacity:1;stroke-miterlimit:10;\" d=\"M 352.230469 223.207031 L 366.449219 24.152344 \"/>\n",
       "<path style=\"fill:none;stroke-width:1;stroke-linecap:butt;stroke-linejoin:miter;stroke:rgb(26.666667%,26.666667%,26.666667%);stroke-opacity:1;stroke-miterlimit:10;\" d=\"M 263.496094 94.03125 L 366.449219 24.152344 \"/>\n",
       "<path style=\"fill:none;stroke-width:1;stroke-linecap:butt;stroke-linejoin:miter;stroke:rgb(26.666667%,26.666667%,26.666667%);stroke-opacity:1;stroke-miterlimit:10;\" d=\"M 352.230469 223.207031 L 218.007812 198.300781 \"/>\n",
       "<path style=\"fill:none;stroke-width:1;stroke-linecap:butt;stroke-linejoin:miter;stroke:rgb(26.666667%,26.666667%,26.666667%);stroke-opacity:1;stroke-miterlimit:10;\" d=\"M 278.675781 153.398438 L 218.007812 198.300781 \"/>\n",
       "<path style=\"fill:none;stroke-width:1;stroke-linecap:butt;stroke-linejoin:miter;stroke:rgb(26.666667%,26.666667%,26.666667%);stroke-opacity:1;stroke-miterlimit:10;\" d=\"M 254.144531 270.714844 L 218.007812 198.300781 \"/>\n",
       "<path style=\"fill:none;stroke-width:1;stroke-linecap:butt;stroke-linejoin:miter;stroke:rgb(26.666667%,26.666667%,26.666667%);stroke-opacity:1;stroke-miterlimit:10;\" d=\"M 263.496094 94.03125 L 218.007812 198.300781 \"/>\n",
       "<path style=\"fill:none;stroke-width:1;stroke-linecap:butt;stroke-linejoin:miter;stroke:rgb(26.666667%,26.666667%,26.666667%);stroke-opacity:1;stroke-miterlimit:10;\" d=\"M 454.214844 353.777344 L 580 348.359375 \"/>\n",
       "<path style=\"fill:none;stroke-width:1;stroke-linecap:butt;stroke-linejoin:miter;stroke:rgb(26.666667%,26.666667%,26.666667%);stroke-opacity:1;stroke-miterlimit:10;\" d=\"M 483.882812 269.917969 L 580 348.359375 \"/>\n",
       "<path style=\"fill:none;stroke-width:1;stroke-linecap:butt;stroke-linejoin:miter;stroke:rgb(26.666667%,26.666667%,26.666667%);stroke-opacity:1;stroke-miterlimit:10;\" d=\"M 352.230469 223.207031 L 391.054688 81.601562 \"/>\n",
       "<path style=\"fill:none;stroke-width:1;stroke-linecap:butt;stroke-linejoin:miter;stroke:rgb(26.666667%,26.666667%,26.666667%);stroke-opacity:1;stroke-miterlimit:10;\" d=\"M 278.675781 153.398438 L 391.054688 81.601562 \"/>\n",
       "<path style=\"fill:none;stroke-width:1;stroke-linecap:butt;stroke-linejoin:miter;stroke:rgb(26.666667%,26.666667%,26.666667%);stroke-opacity:1;stroke-miterlimit:10;\" d=\"M 352.230469 223.207031 L 279.957031 314.300781 \"/>\n",
       "<path style=\"fill:none;stroke-width:1;stroke-linecap:butt;stroke-linejoin:miter;stroke:rgb(26.666667%,26.666667%,26.666667%);stroke-opacity:1;stroke-miterlimit:10;\" d=\"M 278.675781 153.398438 L 279.957031 314.300781 \"/>\n",
       "<path style=\"fill:none;stroke-width:1;stroke-linecap:butt;stroke-linejoin:miter;stroke:rgb(26.666667%,26.666667%,26.666667%);stroke-opacity:1;stroke-miterlimit:10;\" d=\"M 352.230469 223.207031 L 313.742188 20 \"/>\n",
       "<path style=\"fill:none;stroke-width:1;stroke-linecap:butt;stroke-linejoin:miter;stroke:rgb(26.666667%,26.666667%,26.666667%);stroke-opacity:1;stroke-miterlimit:10;\" d=\"M 278.675781 153.398438 L 313.742188 20 \"/>\n",
       "<path style=\"fill:none;stroke-width:1;stroke-linecap:butt;stroke-linejoin:miter;stroke:rgb(26.666667%,26.666667%,26.666667%);stroke-opacity:1;stroke-miterlimit:10;\" d=\"M 174.34375 527.554688 L 285.753906 580 \"/>\n",
       "<path style=\"fill:none;stroke-width:1;stroke-linecap:butt;stroke-linejoin:miter;stroke:rgb(26.666667%,26.666667%,26.666667%);stroke-opacity:1;stroke-miterlimit:10;\" d=\"M 346.585938 528.285156 L 285.753906 580 \"/>\n",
       "<path style=\"fill:none;stroke-width:1;stroke-linecap:butt;stroke-linejoin:miter;stroke:rgb(26.666667%,26.666667%,26.666667%);stroke-opacity:1;stroke-miterlimit:10;\" d=\"M 254.144531 270.714844 L 243.703125 454.121094 \"/>\n",
       "<path style=\"fill:none;stroke-width:1;stroke-linecap:butt;stroke-linejoin:miter;stroke:rgb(26.666667%,26.666667%,26.666667%);stroke-opacity:1;stroke-miterlimit:10;\" d=\"M 174.34375 527.554688 L 243.703125 454.121094 \"/>\n",
       "<path style=\"fill:none;stroke-width:1;stroke-linecap:butt;stroke-linejoin:miter;stroke:rgb(26.666667%,26.666667%,26.666667%);stroke-opacity:1;stroke-miterlimit:10;\" d=\"M 346.585938 528.285156 L 243.703125 454.121094 \"/>\n",
       "<path style=\"fill:none;stroke-width:1;stroke-linecap:butt;stroke-linejoin:miter;stroke:rgb(26.666667%,26.666667%,26.666667%);stroke-opacity:1;stroke-miterlimit:10;\" d=\"M 254.144531 270.714844 L 211.101562 415.242188 \"/>\n",
       "<path style=\"fill:none;stroke-width:1;stroke-linecap:butt;stroke-linejoin:miter;stroke:rgb(26.666667%,26.666667%,26.666667%);stroke-opacity:1;stroke-miterlimit:10;\" d=\"M 174.34375 527.554688 L 115.472656 502.949219 \"/>\n",
       "<path style=\"fill:none;stroke-width:1;stroke-linecap:butt;stroke-linejoin:miter;stroke:rgb(26.666667%,26.666667%,26.666667%);stroke-opacity:1;stroke-miterlimit:10;\" d=\"M 60.4375 528.359375 L 115.472656 502.949219 \"/>\n",
       "<path style=\"fill:none;stroke-width:1;stroke-linecap:butt;stroke-linejoin:miter;stroke:rgb(26.666667%,26.666667%,26.666667%);stroke-opacity:1;stroke-miterlimit:10;\" d=\"M 278.675781 153.398438 L 149.265625 181.867188 \"/>\n",
       "<path style=\"fill:none;stroke-width:1;stroke-linecap:butt;stroke-linejoin:miter;stroke:rgb(26.666667%,26.666667%,26.666667%);stroke-opacity:1;stroke-miterlimit:10;\" d=\"M 212.871094 260.417969 L 149.265625 181.867188 \"/>\n",
       "<path style=\"fill:none;stroke-width:1;stroke-linecap:butt;stroke-linejoin:miter;stroke:rgb(26.666667%,26.666667%,26.666667%);stroke-opacity:1;stroke-miterlimit:10;\" d=\"M 352.230469 223.207031 L 281.488281 388.984375 \"/>\n",
       "<path style=\"fill:none;stroke-width:1;stroke-linecap:butt;stroke-linejoin:miter;stroke:rgb(26.666667%,26.666667%,26.666667%);stroke-opacity:1;stroke-miterlimit:10;\" d=\"M 346.585938 528.285156 L 281.488281 388.984375 \"/>\n",
       "<path style=\"fill:none;stroke-width:1;stroke-linecap:butt;stroke-linejoin:miter;stroke:rgb(26.666667%,26.666667%,26.666667%);stroke-opacity:1;stroke-miterlimit:10;\" d=\"M 285.753906 580 L 281.488281 388.984375 \"/>\n",
       "<path style=\"fill:none;stroke-width:1;stroke-linecap:butt;stroke-linejoin:miter;stroke:rgb(26.666667%,26.666667%,26.666667%);stroke-opacity:1;stroke-miterlimit:10;\" d=\"M 211.101562 415.242188 L 281.488281 388.984375 \"/>\n",
       "<path style=\"fill:none;stroke-width:1;stroke-linecap:butt;stroke-linejoin:miter;stroke:rgb(26.666667%,26.666667%,26.666667%);stroke-opacity:1;stroke-miterlimit:10;\" d=\"M 254.144531 270.714844 L 129.046875 334.445312 \"/>\n",
       "<path style=\"fill:none;stroke-width:1;stroke-linecap:butt;stroke-linejoin:miter;stroke:rgb(26.666667%,26.666667%,26.666667%);stroke-opacity:1;stroke-miterlimit:10;\" d=\"M 212.871094 260.417969 L 129.046875 334.445312 \"/>\n",
       "<path style=\"fill:none;stroke-width:1;stroke-linecap:butt;stroke-linejoin:miter;stroke:rgb(26.666667%,26.666667%,26.666667%);stroke-opacity:1;stroke-miterlimit:10;\" d=\"M 28.210938 399.0625 L 129.046875 334.445312 \"/>\n",
       "<path style=\"fill:none;stroke-width:1;stroke-linecap:butt;stroke-linejoin:miter;stroke:rgb(26.666667%,26.666667%,26.666667%);stroke-opacity:1;stroke-miterlimit:10;\" d=\"M 25.449219 281.753906 L 129.046875 334.445312 \"/>\n",
       "<path style=\"fill:none;stroke-width:1;stroke-linecap:butt;stroke-linejoin:miter;stroke:rgb(26.666667%,26.666667%,26.666667%);stroke-opacity:1;stroke-miterlimit:10;\" d=\"M 20 339.882812 L 129.046875 334.445312 \"/>\n",
       "<path style=\"fill:none;stroke-width:1;stroke-linecap:butt;stroke-linejoin:miter;stroke:rgb(26.666667%,26.666667%,26.666667%);stroke-opacity:1;stroke-miterlimit:10;\" d=\"M 41.648438 228.589844 L 129.046875 334.445312 \"/>\n",
       "<path style=\"fill:none;stroke-width:1;stroke-linecap:butt;stroke-linejoin:miter;stroke:rgb(26.666667%,26.666667%,26.666667%);stroke-opacity:1;stroke-miterlimit:10;\" d=\"M 56.644531 449.039062 L 129.046875 334.445312 \"/>\n",
       "<path style=\"fill:none;stroke-width:1;stroke-linecap:butt;stroke-linejoin:miter;stroke:rgb(26.666667%,26.666667%,26.666667%);stroke-opacity:1;stroke-miterlimit:10;\" d=\"M 174.34375 527.554688 L 129.046875 334.445312 \"/>\n",
       "<path style=\"fill:none;stroke-width:1;stroke-linecap:butt;stroke-linejoin:miter;stroke:rgb(26.666667%,26.666667%,26.666667%);stroke-opacity:1;stroke-miterlimit:10;\" d=\"M 115.472656 502.949219 L 129.046875 334.445312 \"/>\n",
       "<path style=\"fill:none;stroke-width:1;stroke-linecap:butt;stroke-linejoin:miter;stroke:rgb(26.666667%,26.666667%,26.666667%);stroke-opacity:1;stroke-miterlimit:10;\" d=\"M 149.265625 181.867188 L 129.046875 334.445312 \"/>\n",
       "<path style=\"fill:none;stroke-width:1;stroke-linecap:butt;stroke-linejoin:miter;stroke:rgb(26.666667%,26.666667%,26.666667%);stroke-opacity:1;stroke-miterlimit:10;\" d=\"M 281.488281 388.984375 L 129.046875 334.445312 \"/>\n",
       "<path style=\"fill:none;stroke-width:1;stroke-linecap:butt;stroke-linejoin:miter;stroke:rgb(26.666667%,26.666667%,26.666667%);stroke-opacity:1;stroke-miterlimit:10;\" d=\"M 212.871094 260.417969 L 144.714844 363.894531 \"/>\n",
       "<path style=\"fill:none;stroke-width:1;stroke-linecap:butt;stroke-linejoin:miter;stroke:rgb(26.666667%,26.666667%,26.666667%);stroke-opacity:1;stroke-miterlimit:10;\" d=\"M 117.28125 198.195312 L 144.714844 363.894531 \"/>\n",
       "<path style=\"fill:none;stroke-width:1;stroke-linecap:butt;stroke-linejoin:miter;stroke:rgb(26.666667%,26.666667%,26.666667%);stroke-opacity:1;stroke-miterlimit:10;\" d=\"M 218.007812 198.300781 L 144.714844 363.894531 \"/>\n",
       "<path style=\"fill:none;stroke-width:1;stroke-linecap:butt;stroke-linejoin:miter;stroke:rgb(26.666667%,26.666667%,26.666667%);stroke-opacity:1;stroke-miterlimit:10;\" d=\"M 28.210938 399.0625 L 144.714844 363.894531 \"/>\n",
       "<path style=\"fill:none;stroke-width:1;stroke-linecap:butt;stroke-linejoin:miter;stroke:rgb(26.666667%,26.666667%,26.666667%);stroke-opacity:1;stroke-miterlimit:10;\" d=\"M 25.449219 281.753906 L 144.714844 363.894531 \"/>\n",
       "<path style=\"fill:none;stroke-width:1;stroke-linecap:butt;stroke-linejoin:miter;stroke:rgb(26.666667%,26.666667%,26.666667%);stroke-opacity:1;stroke-miterlimit:10;\" d=\"M 20 339.882812 L 144.714844 363.894531 \"/>\n",
       "<path style=\"fill:none;stroke-width:1;stroke-linecap:butt;stroke-linejoin:miter;stroke:rgb(26.666667%,26.666667%,26.666667%);stroke-opacity:1;stroke-miterlimit:10;\" d=\"M 279.957031 314.300781 L 144.714844 363.894531 \"/>\n",
       "<path style=\"fill:none;stroke-width:1;stroke-linecap:butt;stroke-linejoin:miter;stroke:rgb(26.666667%,26.666667%,26.666667%);stroke-opacity:1;stroke-miterlimit:10;\" d=\"M 41.648438 228.589844 L 144.714844 363.894531 \"/>\n",
       "<path style=\"fill:none;stroke-width:1;stroke-linecap:butt;stroke-linejoin:miter;stroke:rgb(26.666667%,26.666667%,26.666667%);stroke-opacity:1;stroke-miterlimit:10;\" d=\"M 56.644531 449.039062 L 144.714844 363.894531 \"/>\n",
       "<path style=\"fill:none;stroke-width:1;stroke-linecap:butt;stroke-linejoin:miter;stroke:rgb(26.666667%,26.666667%,26.666667%);stroke-opacity:1;stroke-miterlimit:10;\" d=\"M 174.34375 527.554688 L 144.714844 363.894531 \"/>\n",
       "<path style=\"fill:none;stroke-width:1;stroke-linecap:butt;stroke-linejoin:miter;stroke:rgb(26.666667%,26.666667%,26.666667%);stroke-opacity:1;stroke-miterlimit:10;\" d=\"M 60.4375 528.359375 L 144.714844 363.894531 \"/>\n",
       "<path style=\"fill:none;stroke-width:1;stroke-linecap:butt;stroke-linejoin:miter;stroke:rgb(26.666667%,26.666667%,26.666667%);stroke-opacity:1;stroke-miterlimit:10;\" d=\"M 243.703125 454.121094 L 144.714844 363.894531 \"/>\n",
       "<path style=\"fill:none;stroke-width:1;stroke-linecap:butt;stroke-linejoin:miter;stroke:rgb(26.666667%,26.666667%,26.666667%);stroke-opacity:1;stroke-miterlimit:10;\" d=\"M 211.101562 415.242188 L 144.714844 363.894531 \"/>\n",
       "<path style=\"fill:none;stroke-width:1;stroke-linecap:butt;stroke-linejoin:miter;stroke:rgb(26.666667%,26.666667%,26.666667%);stroke-opacity:1;stroke-miterlimit:10;\" d=\"M 115.472656 502.949219 L 144.714844 363.894531 \"/>\n",
       "<path style=\"fill:none;stroke-width:1;stroke-linecap:butt;stroke-linejoin:miter;stroke:rgb(26.666667%,26.666667%,26.666667%);stroke-opacity:1;stroke-miterlimit:10;\" d=\"M 149.265625 181.867188 L 144.714844 363.894531 \"/>\n",
       "<path style=\"fill:none;stroke-width:1;stroke-linecap:butt;stroke-linejoin:miter;stroke:rgb(26.666667%,26.666667%,26.666667%);stroke-opacity:1;stroke-miterlimit:10;\" d=\"M 281.488281 388.984375 L 144.714844 363.894531 \"/>\n",
       "<path style=\"fill:none;stroke-width:1;stroke-linecap:butt;stroke-linejoin:miter;stroke:rgb(26.666667%,26.666667%,26.666667%);stroke-opacity:1;stroke-miterlimit:10;\" d=\"M 129.046875 334.445312 L 144.714844 363.894531 \"/>\n",
       "<path style=\"fill-rule:nonzero;fill:rgb(0%,100%,0%);fill-opacity:1;stroke-width:1;stroke-linecap:butt;stroke-linejoin:miter;stroke:rgb(0%,0%,0%);stroke-opacity:1;stroke-miterlimit:10;\" d=\"M 362.230469 223.207031 C 362.230469 228.726562 357.753906 233.207031 352.230469 233.207031 C 346.707031 233.207031 342.230469 228.726562 342.230469 223.207031 C 342.230469 217.683594 346.707031 213.207031 352.230469 213.207031 C 357.753906 213.207031 362.230469 217.683594 362.230469 223.207031 \"/>\n",
       "<path style=\"fill-rule:nonzero;fill:rgb(0%,100%,0%);fill-opacity:1;stroke-width:1;stroke-linecap:butt;stroke-linejoin:miter;stroke:rgb(0%,0%,0%);stroke-opacity:1;stroke-miterlimit:10;\" d=\"M 288.675781 153.398438 C 288.675781 158.921875 284.199219 163.398438 278.675781 163.398438 C 273.152344 163.398438 268.675781 158.921875 268.675781 153.398438 C 268.675781 147.875 273.152344 143.398438 278.675781 143.398438 C 284.199219 143.398438 288.675781 147.875 288.675781 153.398438 \"/>\n",
       "<path style=\"fill-rule:nonzero;fill:rgb(0%,100%,0%);fill-opacity:1;stroke-width:1;stroke-linecap:butt;stroke-linejoin:miter;stroke:rgb(0%,0%,0%);stroke-opacity:1;stroke-miterlimit:10;\" d=\"M 264.144531 270.714844 C 264.144531 276.238281 259.667969 280.714844 254.144531 280.714844 C 248.621094 280.714844 244.144531 276.238281 244.144531 270.714844 C 244.144531 265.191406 248.621094 260.714844 254.144531 260.714844 C 259.667969 260.714844 264.144531 265.191406 264.144531 270.714844 \"/>\n",
       "<path style=\"fill-rule:nonzero;fill:rgb(100%,0%,0%);fill-opacity:1;stroke-width:1;stroke-linecap:butt;stroke-linejoin:miter;stroke:rgb(0%,0%,0%);stroke-opacity:1;stroke-miterlimit:10;\" d=\"M 273.496094 94.03125 C 273.496094 99.554688 269.019531 104.03125 263.496094 104.03125 C 257.972656 104.03125 253.496094 99.554688 253.496094 94.03125 C 253.496094 88.511719 257.972656 84.03125 263.496094 84.03125 C 269.019531 84.03125 273.496094 88.511719 273.496094 94.03125 \"/>\n",
       "<path style=\"fill-rule:nonzero;fill:rgb(100%,0%,0%);fill-opacity:1;stroke-width:1;stroke-linecap:butt;stroke-linejoin:miter;stroke:rgb(0%,0%,0%);stroke-opacity:1;stroke-miterlimit:10;\" d=\"M 478.878906 176.125 C 478.878906 181.648438 474.402344 186.125 468.878906 186.125 C 463.355469 186.125 458.878906 181.648438 458.878906 176.125 C 458.878906 170.601562 463.355469 166.125 468.878906 166.125 C 474.402344 166.125 478.878906 170.601562 478.878906 176.125 \"/>\n",
       "<path style=\"fill-rule:nonzero;fill:rgb(0%,100%,0%);fill-opacity:1;stroke-width:1;stroke-linecap:butt;stroke-linejoin:miter;stroke:rgb(0%,0%,0%);stroke-opacity:1;stroke-miterlimit:10;\" d=\"M 464.214844 353.777344 C 464.214844 359.300781 459.738281 363.777344 454.214844 363.777344 C 448.691406 363.777344 444.214844 359.300781 444.214844 353.777344 C 444.214844 348.253906 448.691406 343.777344 454.214844 343.777344 C 459.738281 343.777344 464.214844 348.253906 464.214844 353.777344 \"/>\n",
       "<path style=\"fill-rule:nonzero;fill:rgb(0%,100%,0%);fill-opacity:1;stroke-width:1;stroke-linecap:butt;stroke-linejoin:miter;stroke:rgb(0%,0%,0%);stroke-opacity:1;stroke-miterlimit:10;\" d=\"M 493.882812 269.917969 C 493.882812 275.4375 489.40625 279.917969 483.882812 279.917969 C 478.359375 279.917969 473.882812 275.4375 473.882812 269.917969 C 473.882812 264.394531 478.359375 259.917969 483.882812 259.917969 C 489.40625 259.917969 493.882812 264.394531 493.882812 269.917969 \"/>\n",
       "<path style=\"fill-rule:nonzero;fill:rgb(0%,100%,0%);fill-opacity:1;stroke-width:1;stroke-linecap:butt;stroke-linejoin:miter;stroke:rgb(0%,0%,0%);stroke-opacity:1;stroke-miterlimit:10;\" d=\"M 340.179688 153.597656 C 340.179688 159.121094 335.699219 163.597656 330.179688 163.597656 C 324.65625 163.597656 320.179688 159.121094 320.179688 153.597656 C 320.179688 148.074219 324.65625 143.597656 330.179688 143.597656 C 335.699219 143.597656 340.179688 148.074219 340.179688 153.597656 \"/>\n",
       "<path style=\"fill-rule:nonzero;fill:rgb(0%,100%,0%);fill-opacity:1;stroke-width:1;stroke-linecap:butt;stroke-linejoin:miter;stroke:rgb(0%,0%,0%);stroke-opacity:1;stroke-miterlimit:10;\" d=\"M 222.871094 260.417969 C 222.871094 265.941406 218.394531 270.417969 212.871094 270.417969 C 207.347656 270.417969 202.871094 265.941406 202.871094 260.417969 C 202.871094 254.894531 207.347656 250.417969 212.871094 250.417969 C 218.394531 250.417969 222.871094 254.894531 222.871094 260.417969 \"/>\n",
       "<path style=\"fill-rule:nonzero;fill:rgb(100%,0%,0%);fill-opacity:1;stroke-width:1;stroke-linecap:butt;stroke-linejoin:miter;stroke:rgb(0%,0%,0%);stroke-opacity:1;stroke-miterlimit:10;\" d=\"M 127.28125 198.195312 C 127.28125 203.71875 122.804688 208.195312 117.28125 208.195312 C 111.757812 208.195312 107.28125 203.71875 107.28125 198.195312 C 107.28125 192.675781 111.757812 188.195312 117.28125 188.195312 C 122.804688 188.195312 127.28125 192.675781 127.28125 198.195312 \"/>\n",
       "<path style=\"fill-rule:nonzero;fill:rgb(0%,100%,0%);fill-opacity:1;stroke-width:1;stroke-linecap:butt;stroke-linejoin:miter;stroke:rgb(0%,0%,0%);stroke-opacity:1;stroke-miterlimit:10;\" d=\"M 453.921875 269.316406 C 453.921875 274.839844 449.441406 279.316406 443.921875 279.316406 C 438.398438 279.316406 433.921875 274.839844 433.921875 269.316406 C 433.921875 263.792969 438.398438 259.316406 443.921875 259.316406 C 449.441406 259.316406 453.921875 263.792969 453.921875 269.316406 \"/>\n",
       "<path style=\"fill-rule:nonzero;fill:rgb(100%,0%,0%);fill-opacity:1;stroke-width:1;stroke-linecap:butt;stroke-linejoin:miter;stroke:rgb(0%,0%,0%);stroke-opacity:1;stroke-miterlimit:10;\" d=\"M 461.292969 102.140625 C 461.292969 107.664062 456.816406 112.140625 451.292969 112.140625 C 445.769531 112.140625 441.292969 107.664062 441.292969 102.140625 C 441.292969 96.617188 445.769531 92.140625 451.292969 92.140625 C 456.816406 92.140625 461.292969 96.617188 461.292969 102.140625 \"/>\n",
       "<path style=\"fill-rule:nonzero;fill:rgb(100%,0%,0%);fill-opacity:1;stroke-width:1;stroke-linecap:butt;stroke-linejoin:miter;stroke:rgb(0%,0%,0%);stroke-opacity:1;stroke-miterlimit:10;\" d=\"M 376.449219 24.152344 C 376.449219 29.671875 371.96875 34.152344 366.449219 34.152344 C 360.925781 34.152344 356.449219 29.671875 356.449219 24.152344 C 356.449219 18.628906 360.925781 14.152344 366.449219 14.152344 C 371.96875 14.152344 376.449219 18.628906 376.449219 24.152344 \"/>\n",
       "<path style=\"fill-rule:nonzero;fill:rgb(100%,0%,0%);fill-opacity:1;stroke-width:1;stroke-linecap:butt;stroke-linejoin:miter;stroke:rgb(0%,0%,0%);stroke-opacity:1;stroke-miterlimit:10;\" d=\"M 228.007812 198.300781 C 228.007812 203.824219 223.53125 208.300781 218.007812 208.300781 C 212.484375 208.300781 208.007812 203.824219 208.007812 198.300781 C 208.007812 192.78125 212.484375 188.300781 218.007812 188.300781 C 223.53125 188.300781 228.007812 192.78125 228.007812 198.300781 \"/>\n",
       "<path style=\"fill-rule:nonzero;fill:rgb(0%,100%,0%);fill-opacity:1;stroke-width:1;stroke-linecap:butt;stroke-linejoin:miter;stroke:rgb(0%,0%,0%);stroke-opacity:1;stroke-miterlimit:10;\" d=\"M 38.210938 399.0625 C 38.210938 404.585938 33.734375 409.0625 28.210938 409.0625 C 22.691406 409.0625 18.210938 404.585938 18.210938 399.0625 C 18.210938 393.539062 22.691406 389.0625 28.210938 389.0625 C 33.734375 389.0625 38.210938 393.539062 38.210938 399.0625 \"/>\n",
       "<path style=\"fill-rule:nonzero;fill:rgb(0%,100%,0%);fill-opacity:1;stroke-width:1;stroke-linecap:butt;stroke-linejoin:miter;stroke:rgb(0%,0%,0%);stroke-opacity:1;stroke-miterlimit:10;\" d=\"M 35.449219 281.753906 C 35.449219 287.273438 30.972656 291.753906 25.449219 291.753906 C 19.925781 291.753906 15.449219 287.273438 15.449219 281.753906 C 15.449219 276.230469 19.925781 271.753906 25.449219 271.753906 C 30.972656 271.753906 35.449219 276.230469 35.449219 281.753906 \"/>\n",
       "<path style=\"fill-rule:nonzero;fill:rgb(0%,100%,0%);fill-opacity:1;stroke-width:1;stroke-linecap:butt;stroke-linejoin:miter;stroke:rgb(0%,0%,0%);stroke-opacity:1;stroke-miterlimit:10;\" d=\"M 590 348.359375 C 590 353.882812 585.523438 358.359375 580 358.359375 C 574.476562 358.359375 570 353.882812 570 348.359375 C 570 342.835938 574.476562 338.359375 580 338.359375 C 585.523438 338.359375 590 342.835938 590 348.359375 \"/>\n",
       "<path style=\"fill-rule:nonzero;fill:rgb(100%,0%,0%);fill-opacity:1;stroke-width:1;stroke-linecap:butt;stroke-linejoin:miter;stroke:rgb(0%,0%,0%);stroke-opacity:1;stroke-miterlimit:10;\" d=\"M 401.054688 81.601562 C 401.054688 87.125 396.578125 91.601562 391.054688 91.601562 C 385.53125 91.601562 381.054688 87.125 381.054688 81.601562 C 381.054688 76.082031 385.53125 71.601562 391.054688 71.601562 C 396.578125 71.601562 401.054688 76.082031 401.054688 81.601562 \"/>\n",
       "<path style=\"fill-rule:nonzero;fill:rgb(100%,0%,0%);fill-opacity:1;stroke-width:1;stroke-linecap:butt;stroke-linejoin:miter;stroke:rgb(0%,0%,0%);stroke-opacity:1;stroke-miterlimit:10;\" d=\"M 30 339.882812 C 30 345.40625 25.523438 349.882812 20 349.882812 C 14.476562 349.882812 10 345.40625 10 339.882812 C 10 334.359375 14.476562 329.882812 20 329.882812 C 25.523438 329.882812 30 334.359375 30 339.882812 \"/>\n",
       "<path style=\"fill-rule:nonzero;fill:rgb(100%,0%,0%);fill-opacity:1;stroke-width:1;stroke-linecap:butt;stroke-linejoin:miter;stroke:rgb(0%,0%,0%);stroke-opacity:1;stroke-miterlimit:10;\" d=\"M 289.957031 314.300781 C 289.957031 319.824219 285.480469 324.300781 279.957031 324.300781 C 274.433594 324.300781 269.957031 319.824219 269.957031 314.300781 C 269.957031 308.777344 274.433594 304.300781 279.957031 304.300781 C 285.480469 304.300781 289.957031 308.777344 289.957031 314.300781 \"/>\n",
       "<path style=\"fill-rule:nonzero;fill:rgb(100%,0%,0%);fill-opacity:1;stroke-width:1;stroke-linecap:butt;stroke-linejoin:miter;stroke:rgb(0%,0%,0%);stroke-opacity:1;stroke-miterlimit:10;\" d=\"M 51.648438 228.589844 C 51.648438 234.113281 47.171875 238.589844 41.648438 238.589844 C 36.125 238.589844 31.648438 234.113281 31.648438 228.589844 C 31.648438 223.066406 36.125 218.589844 41.648438 218.589844 C 47.171875 218.589844 51.648438 223.066406 51.648438 228.589844 \"/>\n",
       "<path style=\"fill-rule:nonzero;fill:rgb(100%,0%,0%);fill-opacity:1;stroke-width:1;stroke-linecap:butt;stroke-linejoin:miter;stroke:rgb(0%,0%,0%);stroke-opacity:1;stroke-miterlimit:10;\" d=\"M 323.742188 20 C 323.742188 25.523438 319.261719 30 313.742188 30 C 308.21875 30 303.742188 25.523438 303.742188 20 C 303.742188 14.476562 308.21875 10 313.742188 10 C 319.261719 10 323.742188 14.476562 323.742188 20 \"/>\n",
       "<path style=\"fill-rule:nonzero;fill:rgb(100%,0%,0%);fill-opacity:1;stroke-width:1;stroke-linecap:butt;stroke-linejoin:miter;stroke:rgb(0%,0%,0%);stroke-opacity:1;stroke-miterlimit:10;\" d=\"M 66.644531 449.039062 C 66.644531 454.5625 62.167969 459.039062 56.644531 459.039062 C 51.125 459.039062 46.644531 454.5625 46.644531 449.039062 C 46.644531 443.515625 51.125 439.039062 56.644531 439.039062 C 62.167969 439.039062 66.644531 443.515625 66.644531 449.039062 \"/>\n",
       "<path style=\"fill-rule:nonzero;fill:rgb(100%,0%,0%);fill-opacity:1;stroke-width:1;stroke-linecap:butt;stroke-linejoin:miter;stroke:rgb(0%,0%,0%);stroke-opacity:1;stroke-miterlimit:10;\" d=\"M 184.34375 527.554688 C 184.34375 533.078125 179.867188 537.554688 174.34375 537.554688 C 168.820312 537.554688 164.34375 533.078125 164.34375 527.554688 C 164.34375 522.035156 168.820312 517.554688 174.34375 517.554688 C 179.867188 517.554688 184.34375 522.035156 184.34375 527.554688 \"/>\n",
       "<path style=\"fill-rule:nonzero;fill:rgb(0%,100%,0%);fill-opacity:1;stroke-width:1;stroke-linecap:butt;stroke-linejoin:miter;stroke:rgb(0%,0%,0%);stroke-opacity:1;stroke-miterlimit:10;\" d=\"M 356.585938 528.285156 C 356.585938 533.808594 352.105469 538.285156 346.585938 538.285156 C 341.0625 538.285156 336.585938 533.808594 336.585938 528.285156 C 336.585938 522.761719 341.0625 518.285156 346.585938 518.285156 C 352.105469 518.285156 356.585938 522.761719 356.585938 528.285156 \"/>\n",
       "<path style=\"fill-rule:nonzero;fill:rgb(0%,100%,0%);fill-opacity:1;stroke-width:1;stroke-linecap:butt;stroke-linejoin:miter;stroke:rgb(0%,0%,0%);stroke-opacity:1;stroke-miterlimit:10;\" d=\"M 295.753906 580 C 295.753906 585.523438 291.277344 590 285.753906 590 C 280.230469 590 275.753906 585.523438 275.753906 580 C 275.753906 574.476562 280.230469 570 285.753906 570 C 291.277344 570 295.753906 574.476562 295.753906 580 \"/>\n",
       "<path style=\"fill-rule:nonzero;fill:rgb(0%,100%,0%);fill-opacity:1;stroke-width:1;stroke-linecap:butt;stroke-linejoin:miter;stroke:rgb(0%,0%,0%);stroke-opacity:1;stroke-miterlimit:10;\" d=\"M 70.4375 528.359375 C 70.4375 533.882812 65.960938 538.359375 60.4375 538.359375 C 54.914062 538.359375 50.4375 533.882812 50.4375 528.359375 C 50.4375 522.835938 54.914062 518.359375 60.4375 518.359375 C 65.960938 518.359375 70.4375 522.835938 70.4375 528.359375 \"/>\n",
       "<path style=\"fill-rule:nonzero;fill:rgb(0%,100%,0%);fill-opacity:1;stroke-width:1;stroke-linecap:butt;stroke-linejoin:miter;stroke:rgb(0%,0%,0%);stroke-opacity:1;stroke-miterlimit:10;\" d=\"M 253.703125 454.121094 C 253.703125 459.644531 249.226562 464.121094 243.703125 464.121094 C 238.179688 464.121094 233.703125 459.644531 233.703125 454.121094 C 233.703125 448.597656 238.179688 444.121094 243.703125 444.121094 C 249.226562 444.121094 253.703125 448.597656 253.703125 454.121094 \"/>\n",
       "<path style=\"fill-rule:nonzero;fill:rgb(0%,100%,0%);fill-opacity:1;stroke-width:1;stroke-linecap:butt;stroke-linejoin:miter;stroke:rgb(0%,0%,0%);stroke-opacity:1;stroke-miterlimit:10;\" d=\"M 221.101562 415.242188 C 221.101562 420.765625 216.625 425.242188 211.101562 425.242188 C 205.582031 425.242188 201.101562 420.765625 201.101562 415.242188 C 201.101562 409.71875 205.582031 405.242188 211.101562 405.242188 C 216.625 405.242188 221.101562 409.71875 221.101562 415.242188 \"/>\n",
       "<path style=\"fill-rule:nonzero;fill:rgb(100%,0%,0%);fill-opacity:1;stroke-width:1;stroke-linecap:butt;stroke-linejoin:miter;stroke:rgb(0%,0%,0%);stroke-opacity:1;stroke-miterlimit:10;\" d=\"M 125.472656 502.949219 C 125.472656 508.472656 120.996094 512.949219 115.472656 512.949219 C 109.949219 512.949219 105.472656 508.472656 105.472656 502.949219 C 105.472656 497.425781 109.949219 492.949219 115.472656 492.949219 C 120.996094 492.949219 125.472656 497.425781 125.472656 502.949219 \"/>\n",
       "<path style=\"fill-rule:nonzero;fill:rgb(0%,100%,0%);fill-opacity:1;stroke-width:1;stroke-linecap:butt;stroke-linejoin:miter;stroke:rgb(0%,0%,0%);stroke-opacity:1;stroke-miterlimit:10;\" d=\"M 159.265625 181.867188 C 159.265625 187.390625 154.789062 191.867188 149.265625 191.867188 C 143.742188 191.867188 139.265625 187.390625 139.265625 181.867188 C 139.265625 176.347656 143.742188 171.867188 149.265625 171.867188 C 154.789062 171.867188 159.265625 176.347656 159.265625 181.867188 \"/>\n",
       "<path style=\"fill-rule:nonzero;fill:rgb(100%,0%,0%);fill-opacity:1;stroke-width:1;stroke-linecap:butt;stroke-linejoin:miter;stroke:rgb(0%,0%,0%);stroke-opacity:1;stroke-miterlimit:10;\" d=\"M 291.488281 388.984375 C 291.488281 394.507812 287.011719 398.984375 281.488281 398.984375 C 275.96875 398.984375 271.488281 394.507812 271.488281 388.984375 C 271.488281 383.460938 275.96875 378.984375 281.488281 378.984375 C 287.011719 378.984375 291.488281 383.460938 291.488281 388.984375 \"/>\n",
       "<path style=\"fill-rule:nonzero;fill:rgb(100%,0%,0%);fill-opacity:1;stroke-width:1;stroke-linecap:butt;stroke-linejoin:miter;stroke:rgb(0%,0%,0%);stroke-opacity:1;stroke-miterlimit:10;\" d=\"M 139.046875 334.445312 C 139.046875 339.96875 134.570312 344.445312 129.046875 344.445312 C 123.523438 344.445312 119.046875 339.96875 119.046875 334.445312 C 119.046875 328.925781 123.523438 324.445312 129.046875 324.445312 C 134.570312 324.445312 139.046875 328.925781 139.046875 334.445312 \"/>\n",
       "<path style=\"fill-rule:nonzero;fill:rgb(100%,0%,0%);fill-opacity:1;stroke-width:1;stroke-linecap:butt;stroke-linejoin:miter;stroke:rgb(0%,0%,0%);stroke-opacity:1;stroke-miterlimit:10;\" d=\"M 154.714844 363.894531 C 154.714844 369.417969 150.238281 373.894531 144.714844 373.894531 C 139.191406 373.894531 134.714844 369.417969 134.714844 363.894531 C 134.714844 358.375 139.191406 353.894531 144.714844 353.894531 C 150.238281 353.894531 154.714844 358.375 154.714844 363.894531 \"/>\n",
       "</g>\n",
       "</svg>\n"
      ],
      "text/plain": [
       "<igraph.drawing.Plot at 0x114e4c518>"
      ]
     },
     "execution_count": 118,
     "metadata": {},
     "output_type": "execute_result"
    }
   ],
   "source": [
    "igraph.plot(p)"
   ]
  },
  {
   "cell_type": "markdown",
   "metadata": {},
   "source": [
    "## Walktrap Closed Form"
   ]
  },
  {
   "cell_type": "code",
   "execution_count": 191,
   "metadata": {},
   "outputs": [
    {
     "name": "stdout",
     "output_type": "stream",
     "text": [
      "{(21,), (32,), (23,), (9,), (11,), (13,), (24,), (15,), (26,), (1,), (28,), (3,), (30,), (5,), (16,), (7,), (18,), (20,), (22,), (33,), (8,), (10,), (12,), (14,), (25,), (0,), (27,), (2,), (29,), (4,), (31,), (6,), (17,), (19,)}\n",
      "14 15\n",
      "{(21,), (32,), (23,), (9,), (11,), (13,), (24,), (26,), (1,), (28,), (3,), (30,), (5,), (16,), (7,), (18,), (20,), (22,), (33,), (8,), (10,), (14, 15), (12,), (25,), (0,), (27,), (2,), (29,), (4,), (31,), (6,), (17,), (19,)}\n",
      "17 21\n",
      "{(32,), (23,), (9,), (11,), (13,), (24,), (26,), (1,), (28,), (3,), (30,), (5,), (16,), (7,), (18,), (20,), (22,), (33,), (8,), (10,), (14, 15), (12,), (25,), (0,), (27,), (2,), (29,), (4,), (31,), (17, 21), (6,), (19,)}\n",
      "18 20\n",
      "{(32,), (23,), (9,), (11,), (13,), (24,), (26,), (1,), (28,), (3,), (30,), (5,), (16,), (7,), (18, 20), (22,), (33,), (8,), (10,), (14, 15), (12,), (25,), (0,), (27,), (2,), (29,), (4,), (31,), (17, 21), (6,), (19,)}\n",
      "14 37\n",
      "{(32,), (23,), (9,), (11,), (13,), (24,), (26,), (1,), (28,), (3,), (30,), (14, 15, 18, 20), (5,), (16,), (7,), (22,), (33,), (8,), (10,), (12,), (25,), (0,), (27,), (2,), (29,), (4,), (31,), (17, 21), (6,), (19,)}\n",
      "15 38\n"
     ]
    },
    {
     "ename": "KeyError",
     "evalue": "(14, 15, 18, 20)",
     "output_type": "error",
     "traceback": [
      "\u001b[0;31m---------------------------------------------------------------------------\u001b[0m",
      "\u001b[0;31mKeyError\u001b[0m                                  Traceback (most recent call last)",
      "\u001b[0;32m<ipython-input-191-d84cb5cabcff>\u001b[0m in \u001b[0;36m<module>\u001b[0;34m()\u001b[0m\n\u001b[1;32m      1\u001b[0m \u001b[0mimportlib\u001b[0m\u001b[0;34m.\u001b[0m\u001b[0mreload\u001b[0m\u001b[0;34m(\u001b[0m\u001b[0mmethods\u001b[0m\u001b[0;34m)\u001b[0m\u001b[0;34m\u001b[0m\u001b[0m\n\u001b[1;32m      2\u001b[0m \u001b[0;34m\u001b[0m\u001b[0m\n\u001b[0;32m----> 3\u001b[0;31m \u001b[0mp\u001b[0m \u001b[0;34m=\u001b[0m \u001b[0mmethods\u001b[0m\u001b[0;34m.\u001b[0m\u001b[0mwalktrap_cf\u001b[0m\u001b[0;34m(\u001b[0m\u001b[0mlargest\u001b[0m\u001b[0;34m)\u001b[0m\u001b[0;34m\u001b[0m\u001b[0m\n\u001b[0m",
      "\u001b[0;32m/Users/JakeCarlson/Desktop/School/CSE/CSE_8331/project/community-finding/methods.py\u001b[0m in \u001b[0;36mwalktrap_cf\u001b[0;34m(g, t)\u001b[0m\n\u001b[1;32m    156\u001b[0m         \u001b[0;31m# replace coms\u001b[0m\u001b[0;34m\u001b[0m\u001b[0;34m\u001b[0m\u001b[0m\n\u001b[1;32m    157\u001b[0m         \u001b[0mcoms\u001b[0m\u001b[0;34m.\u001b[0m\u001b[0mremove\u001b[0m\u001b[0;34m(\u001b[0m\u001b[0midx_to_com\u001b[0m\u001b[0;34m[\u001b[0m\u001b[0mi\u001b[0m\u001b[0;34m]\u001b[0m\u001b[0;34m)\u001b[0m\u001b[0;34m\u001b[0m\u001b[0m\n\u001b[0;32m--> 158\u001b[0;31m         \u001b[0mcoms\u001b[0m\u001b[0;34m.\u001b[0m\u001b[0mremove\u001b[0m\u001b[0;34m(\u001b[0m\u001b[0midx_to_com\u001b[0m\u001b[0;34m[\u001b[0m\u001b[0mj\u001b[0m\u001b[0;34m]\u001b[0m\u001b[0;34m)\u001b[0m\u001b[0;34m\u001b[0m\u001b[0m\n\u001b[0m\u001b[1;32m    159\u001b[0m         \u001b[0mcoms\u001b[0m\u001b[0;34m.\u001b[0m\u001b[0madd\u001b[0m\u001b[0;34m(\u001b[0m\u001b[0midx_to_com\u001b[0m\u001b[0;34m[\u001b[0m\u001b[0mcom_idx\u001b[0m\u001b[0;34m]\u001b[0m\u001b[0;34m)\u001b[0m\u001b[0;34m\u001b[0m\u001b[0m\n\u001b[1;32m    160\u001b[0m         \u001b[0;32mfor\u001b[0m \u001b[0mn\u001b[0m \u001b[0;32min\u001b[0m \u001b[0midx_to_com\u001b[0m\u001b[0;34m[\u001b[0m\u001b[0mcom_idx\u001b[0m\u001b[0;34m]\u001b[0m\u001b[0;34m:\u001b[0m\u001b[0;34m\u001b[0m\u001b[0m\n",
      "\u001b[0;31mKeyError\u001b[0m: (14, 15, 18, 20)"
     ]
    }
   ],
   "source": [
    "importlib.reload(methods)\n",
    "\n",
    "p = methods.walktrap_cf(largest)"
   ]
  },
  {
   "cell_type": "code",
   "execution_count": null,
   "metadata": {},
   "outputs": [],
   "source": [
    "p"
   ]
  },
  {
   "cell_type": "markdown",
   "metadata": {},
   "source": [
    "## Walktrap"
   ]
  },
  {
   "cell_type": "code",
   "execution_count": null,
   "metadata": {
    "collapsed": true
   },
   "outputs": [],
   "source": [
    "dendrogram = largest.community_walktrap()\n",
    "dendrogram.optimal_count"
   ]
  },
  {
   "cell_type": "code",
   "execution_count": null,
   "metadata": {
    "collapsed": true
   },
   "outputs": [],
   "source": [
    "tag_counts = df_t.Tag.value_counts()\n",
    "tag_counts[:100].plot()\n",
    "plt.show()"
   ]
  },
  {
   "cell_type": "code",
   "execution_count": null,
   "metadata": {
    "collapsed": true
   },
   "outputs": [],
   "source": [
    "clusters = dendrogram.as_clustering()\n",
    "membership = clusters.membership\n",
    "largest.vs['membership'] = membership"
   ]
  },
  {
   "cell_type": "code",
   "execution_count": null,
   "metadata": {
    "collapsed": true
   },
   "outputs": [],
   "source": [
    "def get_n_tag_counts_for_membership(m, n):\n",
    "    q_ids = set([graph.vs[i]['name'] for i in range(len(largest.vs)) if membership[i] == m])\n",
    "    q_tags = df_t.Tag[df_t.Id.isin(df_q.Id[df_q.qid.isin(q_ids)])]\n",
    "    return len(q_ids), q_tags.value_counts()[:n]"
   ]
  },
  {
   "cell_type": "code",
   "execution_count": null,
   "metadata": {
    "collapsed": true
   },
   "outputs": [],
   "source": [
    "for m in list(set(membership)):\n",
    "    num, counts = get_n_tag_counts_for_membership(m, 5)\n",
    "    print(m, \":\", num)\n",
    "    print(counts)"
   ]
  },
  {
   "cell_type": "code",
   "execution_count": null,
   "metadata": {
    "collapsed": true
   },
   "outputs": [],
   "source": [
    "def show_n_questions_for_membership(m, n):\n",
    "    q_ids = set([graph.vs[i]['name'] for i in range(len(largest.vs)) if membership[i] == m])\n",
    "    q_titles = df_q.Title.values[df_q.qid.isin(q_ids)]\n",
    "    return q_titles[:n]"
   ]
  },
  {
   "cell_type": "code",
   "execution_count": null,
   "metadata": {
    "collapsed": true
   },
   "outputs": [],
   "source": [
    "show_n_questions_for_membership(2, 10)"
   ]
  },
  {
   "cell_type": "code",
   "execution_count": null,
   "metadata": {
    "collapsed": true
   },
   "outputs": [],
   "source": [
    "def plot_memberships(ms):\n",
    "    palette = igraph.drawing.colors.ClusterColoringPalette(len(clusters))\n",
    "    colors = palette.get_many(membership)\n",
    "    largest.vs['color'] = colors\n",
    "    layout = largest.layout_drl()\n",
    "    p = igraph.drawing.Plot(background='white')\n",
    "    for m in ms:\n",
    "        p.add(clusters.subgraph(m), opacity=0.6, layout=layout)\n",
    "    return p"
   ]
  },
  {
   "cell_type": "code",
   "execution_count": null,
   "metadata": {
    "collapsed": true
   },
   "outputs": [],
   "source": [
    "plot = plot_memberships([0,1])\n",
    "plot.show()"
   ]
  },
  {
   "cell_type": "code",
   "execution_count": null,
   "metadata": {
    "collapsed": true,
    "scrolled": true
   },
   "outputs": [],
   "source": [
    "palette = igraph.drawing.colors.ClusterColoringPalette(len(clusters))\n",
    "colors = palette.get_many(membership)\n",
    "\n",
    "# set user colors (r, b, g, a)\n",
    "# for i in range(len(users)):\n",
    "#     colors[i] = (1.0, 1.0, 1.0, 1.0)\n",
    "# for i in range(len(questions)):\n",
    "#     colors[offset+i] = (1.0, 0.0, 0.0, 1.0)\n",
    "largest.vs['color'] = colors\n",
    "igraph.plot(largest, opacity=0.5)"
   ]
  },
  {
   "cell_type": "code",
   "execution_count": null,
   "metadata": {
    "collapsed": true
   },
   "outputs": [],
   "source": []
  }
 ],
 "metadata": {
  "kernelspec": {
   "display_name": "Python [conda root]",
   "language": "python",
   "name": "conda-root-py"
  },
  "language_info": {
   "codemirror_mode": {
    "name": "ipython",
    "version": 3
   },
   "file_extension": ".py",
   "mimetype": "text/x-python",
   "name": "python",
   "nbconvert_exporter": "python",
   "pygments_lexer": "ipython3",
   "version": "3.6.1"
  }
 },
 "nbformat": 4,
 "nbformat_minor": 2
}
